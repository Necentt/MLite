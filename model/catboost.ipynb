{
 "cells": [
  {
   "cell_type": "code",
   "execution_count": 50,
   "metadata": {
    "collapsed": true,
    "pycharm": {
     "name": "#%%\n"
    }
   },
   "outputs": [
    {
     "data": {
      "text/plain": "  region                                            address      price  \\\n0    msk                                    Москва, Ильинка  196080000   \n1    msk  Россия, Москва, Московский международный делов...  491101853   \n2    msk              Москва, Большой Толмачёвский переулок  156750000   \n3    msk                         Москва, М. Бронная ул., 32   99000000   \n4    msk                    Москва, Дубининская улица, 59к6   32551037   \n\n   total_area kitchen_area living_area  rooms_count  floor  floors_number  \\\n0        88.5         30.5        34.2            2      2              5   \n1       294.6         None        None            4     80             85   \n2        85.6         15.5        34.6            2      2             14   \n3       110.5         15.0        61.0            3      2              6   \n4        58.0         None        24.1            2      3             27   \n\n  build_date  ... cargo_elevator                                      metro  \\\n0       None  ...           None  Площадь Революции,Театральная,Китай-город   \n1       None  ...              1  Деловой центр,Международная,Деловой центр   \n2       None  ...              1           Полянка,Боровицкая,Третьяковская   \n3       1912  ...              0             Маяковская,Пушкинская,Тверская   \n4       None  ...           None       Серпуховская,Павелецкая,Добрынинская   \n\n  metro_distance           metro_transport         district is_apartments  \\\n0          3,6,6            walk,walk,walk     Тверской,ЦАО             0   \n1          3,3,4            walk,walk,walk  Пресненский,ЦАО             1   \n2         2,20,4  transport,walk,transport     Якиманка,ЦАО             0   \n3       10,10,10            walk,walk,walk  Пресненский,ЦАО          None   \n4        18,20,4       walk,walk,transport  Даниловский,ЮАО             0   \n\n   is_auction  repair with_furniture windows_type  \n0           0    None           None         None  \n1           1    None           None         None  \n2           0    None           None         None  \n3           1    None           None         None  \n4           0    None           None         None  \n\n[5 rows x 29 columns]",
      "text/html": "<div>\n<style scoped>\n    .dataframe tbody tr th:only-of-type {\n        vertical-align: middle;\n    }\n\n    .dataframe tbody tr th {\n        vertical-align: top;\n    }\n\n    .dataframe thead th {\n        text-align: right;\n    }\n</style>\n<table border=\"1\" class=\"dataframe\">\n  <thead>\n    <tr style=\"text-align: right;\">\n      <th></th>\n      <th>region</th>\n      <th>address</th>\n      <th>price</th>\n      <th>total_area</th>\n      <th>kitchen_area</th>\n      <th>living_area</th>\n      <th>rooms_count</th>\n      <th>floor</th>\n      <th>floors_number</th>\n      <th>build_date</th>\n      <th>...</th>\n      <th>cargo_elevator</th>\n      <th>metro</th>\n      <th>metro_distance</th>\n      <th>metro_transport</th>\n      <th>district</th>\n      <th>is_apartments</th>\n      <th>is_auction</th>\n      <th>repair</th>\n      <th>with_furniture</th>\n      <th>windows_type</th>\n    </tr>\n  </thead>\n  <tbody>\n    <tr>\n      <th>0</th>\n      <td>msk</td>\n      <td>Москва, Ильинка</td>\n      <td>196080000</td>\n      <td>88.5</td>\n      <td>30.5</td>\n      <td>34.2</td>\n      <td>2</td>\n      <td>2</td>\n      <td>5</td>\n      <td>None</td>\n      <td>...</td>\n      <td>None</td>\n      <td>Площадь Революции,Театральная,Китай-город</td>\n      <td>3,6,6</td>\n      <td>walk,walk,walk</td>\n      <td>Тверской,ЦАО</td>\n      <td>0</td>\n      <td>0</td>\n      <td>None</td>\n      <td>None</td>\n      <td>None</td>\n    </tr>\n    <tr>\n      <th>1</th>\n      <td>msk</td>\n      <td>Россия, Москва, Московский международный делов...</td>\n      <td>491101853</td>\n      <td>294.6</td>\n      <td>None</td>\n      <td>None</td>\n      <td>4</td>\n      <td>80</td>\n      <td>85</td>\n      <td>None</td>\n      <td>...</td>\n      <td>1</td>\n      <td>Деловой центр,Международная,Деловой центр</td>\n      <td>3,3,4</td>\n      <td>walk,walk,walk</td>\n      <td>Пресненский,ЦАО</td>\n      <td>1</td>\n      <td>1</td>\n      <td>None</td>\n      <td>None</td>\n      <td>None</td>\n    </tr>\n    <tr>\n      <th>2</th>\n      <td>msk</td>\n      <td>Москва, Большой Толмачёвский переулок</td>\n      <td>156750000</td>\n      <td>85.6</td>\n      <td>15.5</td>\n      <td>34.6</td>\n      <td>2</td>\n      <td>2</td>\n      <td>14</td>\n      <td>None</td>\n      <td>...</td>\n      <td>1</td>\n      <td>Полянка,Боровицкая,Третьяковская</td>\n      <td>2,20,4</td>\n      <td>transport,walk,transport</td>\n      <td>Якиманка,ЦАО</td>\n      <td>0</td>\n      <td>0</td>\n      <td>None</td>\n      <td>None</td>\n      <td>None</td>\n    </tr>\n    <tr>\n      <th>3</th>\n      <td>msk</td>\n      <td>Москва, М. Бронная ул., 32</td>\n      <td>99000000</td>\n      <td>110.5</td>\n      <td>15.0</td>\n      <td>61.0</td>\n      <td>3</td>\n      <td>2</td>\n      <td>6</td>\n      <td>1912</td>\n      <td>...</td>\n      <td>0</td>\n      <td>Маяковская,Пушкинская,Тверская</td>\n      <td>10,10,10</td>\n      <td>walk,walk,walk</td>\n      <td>Пресненский,ЦАО</td>\n      <td>None</td>\n      <td>1</td>\n      <td>None</td>\n      <td>None</td>\n      <td>None</td>\n    </tr>\n    <tr>\n      <th>4</th>\n      <td>msk</td>\n      <td>Москва, Дубининская улица, 59к6</td>\n      <td>32551037</td>\n      <td>58.0</td>\n      <td>None</td>\n      <td>24.1</td>\n      <td>2</td>\n      <td>3</td>\n      <td>27</td>\n      <td>None</td>\n      <td>...</td>\n      <td>None</td>\n      <td>Серпуховская,Павелецкая,Добрынинская</td>\n      <td>18,20,4</td>\n      <td>walk,walk,transport</td>\n      <td>Даниловский,ЮАО</td>\n      <td>0</td>\n      <td>0</td>\n      <td>None</td>\n      <td>None</td>\n      <td>None</td>\n    </tr>\n  </tbody>\n</table>\n<p>5 rows × 29 columns</p>\n</div>"
     },
     "execution_count": 50,
     "metadata": {},
     "output_type": "execute_result"
    }
   ],
   "source": [
    "import pandas as pd\n",
    "X_full = pd.read_csv('data_msk.csv')\n",
    "X_full = X_full.replace(to_replace='empty', value=None)\n",
    "X_full.head()"
   ]
  },
  {
   "cell_type": "code",
   "execution_count": 52,
   "outputs": [],
   "source": [
    "X_full['kitchen_area'] = X_full['kitchen_area'].astype('float')\n",
    "X_full['living_area'] = X_full['living_area'].astype('float')\n",
    "X_full['build_date'] = X_full['build_date'].astype('float')\n",
    "X_full['isСomplete'] = X_full['isСomplete'].astype('float')\n",
    "X_full['complitation_year'] = X_full['complitation_year'].astype('float')\n",
    "X_full['passenger_elevator'] = X_full['passenger_elevator'].astype('float')\n",
    "X_full['cargo_elevator'] = X_full['cargo_elevator'].astype('float')\n",
    "X_full['is_apartments'] = X_full['is_apartments'].astype('float')"
   ],
   "metadata": {
    "collapsed": false,
    "pycharm": {
     "name": "#%%\n"
    }
   }
  },
  {
   "cell_type": "code",
   "execution_count": 53,
   "outputs": [],
   "source": [
    "X_full = X_full[X_full.price < X_full.price.quantile(q=0.95)]"
   ],
   "metadata": {
    "collapsed": false,
    "pycharm": {
     "name": "#%%\n"
    }
   }
  },
  {
   "cell_type": "code",
   "execution_count": 54,
   "outputs": [],
   "source": [
    "X_train = X_full.drop('price', axis=1)"
   ],
   "metadata": {
    "collapsed": false,
    "pycharm": {
     "name": "#%%\n"
    }
   }
  },
  {
   "cell_type": "code",
   "execution_count": 55,
   "outputs": [],
   "source": [
    "Y = X_full['price']"
   ],
   "metadata": {
    "collapsed": false,
    "pycharm": {
     "name": "#%%\n"
    }
   }
  },
  {
   "cell_type": "code",
   "execution_count": 56,
   "outputs": [],
   "source": [
    "X_train['rooms_count'] = X_train['rooms_count'].fillna(1.0)"
   ],
   "metadata": {
    "collapsed": false,
    "pycharm": {
     "name": "#%%\n"
    }
   }
  },
  {
   "cell_type": "code",
   "execution_count": 57,
   "outputs": [],
   "source": [
    "X_train['kitchen_area'] = X_train['kitchen_area'].fillna(X_train['kitchen_area'].mean())"
   ],
   "metadata": {
    "collapsed": false,
    "pycharm": {
     "name": "#%%\n"
    }
   }
  },
  {
   "cell_type": "code",
   "execution_count": 58,
   "outputs": [],
   "source": [
    "X_train['living_area'] = X_train['living_area'].fillna(X_train['living_area'].mean())"
   ],
   "metadata": {
    "collapsed": false,
    "pycharm": {
     "name": "#%%\n"
    }
   }
  },
  {
   "cell_type": "code",
   "execution_count": 59,
   "outputs": [
    {
     "data": {
      "text/plain": "region                   0\naddress                  0\ntotal_area               0\nkitchen_area             0\nliving_area              0\nrooms_count              0\nfloor                    0\nfloors_number            0\nbuild_date             790\nisСomplete             931\ncomplitation_year      910\nhouse_material         209\nparking                554\ndecoration            1086\nbalcony                968\nlongitude                0\nlatitude                 0\npassenger_elevator     383\ncargo_elevator         710\nmetro                   33\nmetro_distance          33\nmetro_transport         33\ndistrict                 0\nis_apartments          222\nis_auction               0\nrepair                1389\nwith_furniture        1389\nwindows_type          1389\ndtype: int64"
     },
     "execution_count": 59,
     "metadata": {},
     "output_type": "execute_result"
    }
   ],
   "source": [
    "X_train.isna().sum()"
   ],
   "metadata": {
    "collapsed": false,
    "pycharm": {
     "name": "#%%\n"
    }
   }
  },
  {
   "cell_type": "code",
   "execution_count": 60,
   "outputs": [],
   "source": [
    "X_train = X_train.drop(columns={'address', 'district'}, axis=1)"
   ],
   "metadata": {
    "collapsed": false,
    "pycharm": {
     "name": "#%%\n"
    }
   }
  },
  {
   "cell_type": "code",
   "execution_count": 61,
   "outputs": [],
   "source": [
    "X_train['build_date'] = X_train['build_date'].fillna(2025)"
   ],
   "metadata": {
    "collapsed": false,
    "pycharm": {
     "name": "#%%\n"
    }
   }
  },
  {
   "cell_type": "code",
   "execution_count": 62,
   "outputs": [],
   "source": [
    "X_train['complitation_year'] = X_train['complitation_year'].fillna(2023)"
   ],
   "metadata": {
    "collapsed": false,
    "pycharm": {
     "name": "#%%\n"
    }
   }
  },
  {
   "cell_type": "code",
   "execution_count": 63,
   "outputs": [
    {
     "name": "stdout",
     "output_type": "stream",
     "text": [
      "После: isСomplete\n",
      "1.0    695\n",
      "0.0    361\n",
      "Name: count, dtype: int64\n"
     ]
    }
   ],
   "source": [
    "X_train.loc[X_train['build_date'].astype(int) < 2024, 'isСomplete'] = 1\n",
    "# Если дата окончания строительства (complitation_year) > 2024, то дом не построен\n",
    "X_train.loc[X_train['complitation_year'].astype(int) > 2024, 'isСomplete'] = 0\n",
    "\n",
    "print('После:', X_train['isСomplete'].value_counts())"
   ],
   "metadata": {
    "collapsed": false,
    "pycharm": {
     "name": "#%%\n"
    }
   }
  },
  {
   "cell_type": "code",
   "execution_count": 64,
   "outputs": [],
   "source": [
    "X_train.loc[X_train['build_date'].astype(int) >= X_train['complitation_year'].astype(int), 'isСomplete'] = 0"
   ],
   "metadata": {
    "collapsed": false,
    "pycharm": {
     "name": "#%%\n"
    }
   }
  },
  {
   "cell_type": "code",
   "execution_count": 65,
   "outputs": [
    {
     "data": {
      "text/plain": "'monolith'"
     },
     "execution_count": 65,
     "metadata": {},
     "output_type": "execute_result"
    }
   ],
   "source": [
    "most_value_count = X_train['house_material'].value_counts().index[0]\n",
    "most_value_count"
   ],
   "metadata": {
    "collapsed": false,
    "pycharm": {
     "name": "#%%\n"
    }
   }
  },
  {
   "cell_type": "code",
   "execution_count": 66,
   "outputs": [],
   "source": [
    "X_train['house_material'] = X_train['house_material'].fillna(most_value_count)"
   ],
   "metadata": {
    "collapsed": false,
    "pycharm": {
     "name": "#%%\n"
    }
   }
  },
  {
   "cell_type": "code",
   "execution_count": 67,
   "outputs": [],
   "source": [
    "X_train = X_train.drop(columns={'metro', 'metro_distance', 'metro_transport','decoration', 'balcony', 'parking'}, axis=1)"
   ],
   "metadata": {
    "collapsed": false,
    "pycharm": {
     "name": "#%%\n"
    }
   }
  },
  {
   "cell_type": "code",
   "execution_count": 68,
   "outputs": [],
   "source": [
    "X_train.loc[X_train['floors_number'].astype(int) > 5, 'passenger_elevator'] = 1\n",
    "X_train.loc[X_train['floors_number'].astype(int) <= 5, 'passenger_elevator'] = 0"
   ],
   "metadata": {
    "collapsed": false,
    "pycharm": {
     "name": "#%%\n"
    }
   }
  },
  {
   "cell_type": "code",
   "execution_count": 69,
   "outputs": [],
   "source": [
    "X_train.loc[X_train['floors_number'].astype(int) > 5, 'cargo_elevator'] = 1\n",
    "X_train.loc[X_train['floors_number'].astype(int) <= 5, 'cargo_elevator'] = 0"
   ],
   "metadata": {
    "collapsed": false,
    "pycharm": {
     "name": "#%%\n"
    }
   }
  },
  {
   "cell_type": "code",
   "execution_count": 70,
   "outputs": [],
   "source": [
    "X_train['is_apartments'] = X_train['is_apartments'].fillna(0.0)"
   ],
   "metadata": {
    "collapsed": false,
    "pycharm": {
     "name": "#%%\n"
    }
   }
  },
  {
   "cell_type": "code",
   "execution_count": 71,
   "outputs": [
    {
     "data": {
      "text/plain": "     region  total_area  kitchen_area  living_area  rooms_count  floor  \\\n0       msk        88.5     30.500000         34.2            2      2   \n2       msk        85.6     15.500000         34.6            2      2   \n3       msk       110.5     15.000000         61.0            3      2   \n4       msk        58.0     16.357027         24.1            2      3   \n5       msk       153.0     14.000000        102.0            4      6   \n...     ...         ...           ...          ...          ...    ...   \n1458    msk        77.8     14.000000         44.3            3      7   \n1459    msk        59.2      6.000000         44.6            3      7   \n1460    msk        48.6      8.000000         32.0            2      2   \n1461    msk        45.0      6.000000         30.0            2      8   \n1462    msk        42.5     12.100000         13.3            1     11   \n\n      floors_number  build_date  isСomplete  complitation_year house_material  \\\n0                 5      2025.0         0.0             2024.0       monolith   \n2                14      2025.0         0.0             2024.0       monolith   \n3                 6      1912.0         1.0             2023.0          brick   \n4                27      2025.0         0.0             2024.0       monolith   \n5                 7      1914.0         1.0             2023.0          brick   \n...             ...         ...         ...                ...            ...   \n1458             17      2025.0         0.0             2023.0          panel   \n1459              9      1970.0         1.0             2023.0          panel   \n1460              5      1953.0         1.0             2023.0          brick   \n1461              9      1973.0         1.0             2023.0       monolith   \n1462             29      2025.0         0.0             2022.0       monolith   \n\n      longitude   latitude  passenger_elevator  cargo_elevator  is_apartments  \\\n0     37.623509  55.755201                 0.0             0.0            0.0   \n2     37.619913  55.739474                 1.0             1.0            0.0   \n3     37.593524  55.764197                 1.0             1.0            0.0   \n4     37.635652  55.717862                 1.0             1.0            0.0   \n5     37.601439  55.743330                 1.0             1.0            0.0   \n...         ...        ...                 ...             ...            ...   \n1458  37.356953  55.515558                 1.0             1.0            0.0   \n1459  37.490865  55.776137                 1.0             1.0            0.0   \n1460  37.484891  55.793288                 0.0             0.0            0.0   \n1461  37.647190  55.681899                 1.0             1.0            0.0   \n1462  37.450296  55.728072                 1.0             1.0            1.0   \n\n      is_auction repair with_furniture windows_type  \n0              0   None           None         None  \n2              0   None           None         None  \n3              1   None           None         None  \n4              0   None           None         None  \n5              1   None           None         None  \n...          ...    ...            ...          ...  \n1458           1   None           None         None  \n1459           1   None           None         None  \n1460           1   None           None         None  \n1461           1   None           None         None  \n1462           0   None           None         None  \n\n[1389 rows x 20 columns]",
      "text/html": "<div>\n<style scoped>\n    .dataframe tbody tr th:only-of-type {\n        vertical-align: middle;\n    }\n\n    .dataframe tbody tr th {\n        vertical-align: top;\n    }\n\n    .dataframe thead th {\n        text-align: right;\n    }\n</style>\n<table border=\"1\" class=\"dataframe\">\n  <thead>\n    <tr style=\"text-align: right;\">\n      <th></th>\n      <th>region</th>\n      <th>total_area</th>\n      <th>kitchen_area</th>\n      <th>living_area</th>\n      <th>rooms_count</th>\n      <th>floor</th>\n      <th>floors_number</th>\n      <th>build_date</th>\n      <th>isСomplete</th>\n      <th>complitation_year</th>\n      <th>house_material</th>\n      <th>longitude</th>\n      <th>latitude</th>\n      <th>passenger_elevator</th>\n      <th>cargo_elevator</th>\n      <th>is_apartments</th>\n      <th>is_auction</th>\n      <th>repair</th>\n      <th>with_furniture</th>\n      <th>windows_type</th>\n    </tr>\n  </thead>\n  <tbody>\n    <tr>\n      <th>0</th>\n      <td>msk</td>\n      <td>88.5</td>\n      <td>30.500000</td>\n      <td>34.2</td>\n      <td>2</td>\n      <td>2</td>\n      <td>5</td>\n      <td>2025.0</td>\n      <td>0.0</td>\n      <td>2024.0</td>\n      <td>monolith</td>\n      <td>37.623509</td>\n      <td>55.755201</td>\n      <td>0.0</td>\n      <td>0.0</td>\n      <td>0.0</td>\n      <td>0</td>\n      <td>None</td>\n      <td>None</td>\n      <td>None</td>\n    </tr>\n    <tr>\n      <th>2</th>\n      <td>msk</td>\n      <td>85.6</td>\n      <td>15.500000</td>\n      <td>34.6</td>\n      <td>2</td>\n      <td>2</td>\n      <td>14</td>\n      <td>2025.0</td>\n      <td>0.0</td>\n      <td>2024.0</td>\n      <td>monolith</td>\n      <td>37.619913</td>\n      <td>55.739474</td>\n      <td>1.0</td>\n      <td>1.0</td>\n      <td>0.0</td>\n      <td>0</td>\n      <td>None</td>\n      <td>None</td>\n      <td>None</td>\n    </tr>\n    <tr>\n      <th>3</th>\n      <td>msk</td>\n      <td>110.5</td>\n      <td>15.000000</td>\n      <td>61.0</td>\n      <td>3</td>\n      <td>2</td>\n      <td>6</td>\n      <td>1912.0</td>\n      <td>1.0</td>\n      <td>2023.0</td>\n      <td>brick</td>\n      <td>37.593524</td>\n      <td>55.764197</td>\n      <td>1.0</td>\n      <td>1.0</td>\n      <td>0.0</td>\n      <td>1</td>\n      <td>None</td>\n      <td>None</td>\n      <td>None</td>\n    </tr>\n    <tr>\n      <th>4</th>\n      <td>msk</td>\n      <td>58.0</td>\n      <td>16.357027</td>\n      <td>24.1</td>\n      <td>2</td>\n      <td>3</td>\n      <td>27</td>\n      <td>2025.0</td>\n      <td>0.0</td>\n      <td>2024.0</td>\n      <td>monolith</td>\n      <td>37.635652</td>\n      <td>55.717862</td>\n      <td>1.0</td>\n      <td>1.0</td>\n      <td>0.0</td>\n      <td>0</td>\n      <td>None</td>\n      <td>None</td>\n      <td>None</td>\n    </tr>\n    <tr>\n      <th>5</th>\n      <td>msk</td>\n      <td>153.0</td>\n      <td>14.000000</td>\n      <td>102.0</td>\n      <td>4</td>\n      <td>6</td>\n      <td>7</td>\n      <td>1914.0</td>\n      <td>1.0</td>\n      <td>2023.0</td>\n      <td>brick</td>\n      <td>37.601439</td>\n      <td>55.743330</td>\n      <td>1.0</td>\n      <td>1.0</td>\n      <td>0.0</td>\n      <td>1</td>\n      <td>None</td>\n      <td>None</td>\n      <td>None</td>\n    </tr>\n    <tr>\n      <th>...</th>\n      <td>...</td>\n      <td>...</td>\n      <td>...</td>\n      <td>...</td>\n      <td>...</td>\n      <td>...</td>\n      <td>...</td>\n      <td>...</td>\n      <td>...</td>\n      <td>...</td>\n      <td>...</td>\n      <td>...</td>\n      <td>...</td>\n      <td>...</td>\n      <td>...</td>\n      <td>...</td>\n      <td>...</td>\n      <td>...</td>\n      <td>...</td>\n      <td>...</td>\n    </tr>\n    <tr>\n      <th>1458</th>\n      <td>msk</td>\n      <td>77.8</td>\n      <td>14.000000</td>\n      <td>44.3</td>\n      <td>3</td>\n      <td>7</td>\n      <td>17</td>\n      <td>2025.0</td>\n      <td>0.0</td>\n      <td>2023.0</td>\n      <td>panel</td>\n      <td>37.356953</td>\n      <td>55.515558</td>\n      <td>1.0</td>\n      <td>1.0</td>\n      <td>0.0</td>\n      <td>1</td>\n      <td>None</td>\n      <td>None</td>\n      <td>None</td>\n    </tr>\n    <tr>\n      <th>1459</th>\n      <td>msk</td>\n      <td>59.2</td>\n      <td>6.000000</td>\n      <td>44.6</td>\n      <td>3</td>\n      <td>7</td>\n      <td>9</td>\n      <td>1970.0</td>\n      <td>1.0</td>\n      <td>2023.0</td>\n      <td>panel</td>\n      <td>37.490865</td>\n      <td>55.776137</td>\n      <td>1.0</td>\n      <td>1.0</td>\n      <td>0.0</td>\n      <td>1</td>\n      <td>None</td>\n      <td>None</td>\n      <td>None</td>\n    </tr>\n    <tr>\n      <th>1460</th>\n      <td>msk</td>\n      <td>48.6</td>\n      <td>8.000000</td>\n      <td>32.0</td>\n      <td>2</td>\n      <td>2</td>\n      <td>5</td>\n      <td>1953.0</td>\n      <td>1.0</td>\n      <td>2023.0</td>\n      <td>brick</td>\n      <td>37.484891</td>\n      <td>55.793288</td>\n      <td>0.0</td>\n      <td>0.0</td>\n      <td>0.0</td>\n      <td>1</td>\n      <td>None</td>\n      <td>None</td>\n      <td>None</td>\n    </tr>\n    <tr>\n      <th>1461</th>\n      <td>msk</td>\n      <td>45.0</td>\n      <td>6.000000</td>\n      <td>30.0</td>\n      <td>2</td>\n      <td>8</td>\n      <td>9</td>\n      <td>1973.0</td>\n      <td>1.0</td>\n      <td>2023.0</td>\n      <td>monolith</td>\n      <td>37.647190</td>\n      <td>55.681899</td>\n      <td>1.0</td>\n      <td>1.0</td>\n      <td>0.0</td>\n      <td>1</td>\n      <td>None</td>\n      <td>None</td>\n      <td>None</td>\n    </tr>\n    <tr>\n      <th>1462</th>\n      <td>msk</td>\n      <td>42.5</td>\n      <td>12.100000</td>\n      <td>13.3</td>\n      <td>1</td>\n      <td>11</td>\n      <td>29</td>\n      <td>2025.0</td>\n      <td>0.0</td>\n      <td>2022.0</td>\n      <td>monolith</td>\n      <td>37.450296</td>\n      <td>55.728072</td>\n      <td>1.0</td>\n      <td>1.0</td>\n      <td>1.0</td>\n      <td>0</td>\n      <td>None</td>\n      <td>None</td>\n      <td>None</td>\n    </tr>\n  </tbody>\n</table>\n<p>1389 rows × 20 columns</p>\n</div>"
     },
     "execution_count": 71,
     "metadata": {},
     "output_type": "execute_result"
    }
   ],
   "source": [
    "X_train"
   ],
   "metadata": {
    "collapsed": false,
    "pycharm": {
     "name": "#%%\n"
    }
   }
  },
  {
   "cell_type": "code",
   "execution_count": 72,
   "outputs": [
    {
     "data": {
      "text/plain": "region                   0\ntotal_area               0\nkitchen_area             0\nliving_area              0\nrooms_count              0\nfloor                    0\nfloors_number            0\nbuild_date               0\nisСomplete               0\ncomplitation_year        0\nhouse_material           0\nlongitude                0\nlatitude                 0\npassenger_elevator       0\ncargo_elevator           0\nis_apartments            0\nis_auction               0\nrepair                1389\nwith_furniture        1389\nwindows_type          1389\ndtype: int64"
     },
     "execution_count": 72,
     "metadata": {},
     "output_type": "execute_result"
    }
   ],
   "source": [
    "X_train.isna().sum()"
   ],
   "metadata": {
    "collapsed": false,
    "pycharm": {
     "name": "#%%\n"
    }
   }
  },
  {
   "cell_type": "code",
   "execution_count": 73,
   "outputs": [],
   "source": [
    "X_train = X_train.drop(columns={'repair', 'with_furniture', 'windows_type'}, axis=1)"
   ],
   "metadata": {
    "collapsed": false,
    "pycharm": {
     "name": "#%%\n"
    }
   }
  },
  {
   "cell_type": "code",
   "execution_count": 76,
   "outputs": [],
   "source": [
    "X_train = X_train.drop(columns='region')"
   ],
   "metadata": {
    "collapsed": false,
    "pycharm": {
     "name": "#%%\n"
    }
   }
  },
  {
   "cell_type": "code",
   "execution_count": 77,
   "outputs": [
    {
     "name": "stdout",
     "output_type": "stream",
     "text": [
      "<class 'pandas.core.frame.DataFrame'>\n",
      "Index: 1389 entries, 0 to 1462\n",
      "Data columns (total 16 columns):\n",
      " #   Column              Non-Null Count  Dtype  \n",
      "---  ------              --------------  -----  \n",
      " 0   total_area          1389 non-null   float64\n",
      " 1   kitchen_area        1389 non-null   float64\n",
      " 2   living_area         1389 non-null   float64\n",
      " 3   rooms_count         1389 non-null   int64  \n",
      " 4   floor               1389 non-null   int64  \n",
      " 5   floors_number       1389 non-null   int64  \n",
      " 6   build_date          1389 non-null   float64\n",
      " 7   isСomplete          1389 non-null   float64\n",
      " 8   complitation_year   1389 non-null   float64\n",
      " 9   house_material      1389 non-null   object \n",
      " 10  longitude           1389 non-null   float64\n",
      " 11  latitude            1389 non-null   float64\n",
      " 12  passenger_elevator  1389 non-null   float64\n",
      " 13  cargo_elevator      1389 non-null   float64\n",
      " 14  is_apartments       1389 non-null   float64\n",
      " 15  is_auction          1389 non-null   int64  \n",
      "dtypes: float64(11), int64(4), object(1)\n",
      "memory usage: 184.5+ KB\n"
     ]
    }
   ],
   "source": [
    "X_train.info()"
   ],
   "metadata": {
    "collapsed": false,
    "pycharm": {
     "name": "#%%\n"
    }
   }
  },
  {
   "cell_type": "code",
   "execution_count": 78,
   "outputs": [],
   "source": [
    "from sklearn.model_selection import train_test_split\n",
    "\n",
    "X_trained, X_val, y_trained, y_val = train_test_split(X_train, Y, test_size=0.2, random_state=42)"
   ],
   "metadata": {
    "collapsed": false,
    "pycharm": {
     "name": "#%%\n"
    }
   }
  },
  {
   "cell_type": "code",
   "execution_count": 79,
   "outputs": [
    {
     "name": "stdout",
     "output_type": "stream",
     "text": [
      "Model is fitted: True\n",
      "Model params: {'iterations': 500, 'learning_rate': 0.05, 'loss_function': 'RMSE', 'random_seed': 1066, 'logging_level': 'Silent', 'max_depth': 5}\n"
     ]
    }
   ],
   "source": [
    "import numpy as np\n",
    "from catboost import CatBoostRegressor, Pool\n",
    "categorical_features = ['house_material']\n",
    "train_pool = Pool(X_trained, y_trained, categorical_features)\n",
    "test_pool = Pool(X_val, y_val, categorical_features)\n",
    "\n",
    "\n",
    "model = CatBoostRegressor(iterations=500, max_depth=5, learning_rate=0.05, random_seed=1066, logging_level='Silent')\n",
    "model.fit(X_trained, y_trained, eval_set=test_pool, cat_features=categorical_features, use_best_model=True, early_stopping_rounds=10)\n",
    "\n",
    "print(f\"Model is fitted: {str(model.is_fitted())}\")\n",
    "print(f\"Model params: {model.get_params()}\")"
   ],
   "metadata": {
    "collapsed": false,
    "pycharm": {
     "name": "#%%\n"
    }
   }
  },
  {
   "cell_type": "code",
   "execution_count": 81,
   "outputs": [
    {
     "data": {
      "text/plain": "0.8877109478696585"
     },
     "execution_count": 81,
     "metadata": {},
     "output_type": "execute_result"
    }
   ],
   "source": [
    "model.score(X_trained, y_trained)"
   ],
   "metadata": {
    "collapsed": false,
    "pycharm": {
     "name": "#%%\n"
    }
   }
  },
  {
   "cell_type": "code",
   "execution_count": 83,
   "outputs": [],
   "source": [
    "model.save_model('model_msk.cbm')"
   ],
   "metadata": {
    "collapsed": false,
    "pycharm": {
     "name": "#%%\n"
    }
   }
  },
  {
   "cell_type": "code",
   "execution_count": 99,
   "outputs": [
    {
     "data": {
      "text/plain": "<catboost.core.CatBoostRegressor at 0x200939f54d0>"
     },
     "execution_count": 99,
     "metadata": {},
     "output_type": "execute_result"
    }
   ],
   "source": [
    "from catboost import CatBoostRegressor\n",
    "loaded_model = CatBoostRegressor()\n",
    "loaded_model.load_model('model_msk.cbm')\n"
   ],
   "metadata": {
    "collapsed": false,
    "pycharm": {
     "name": "#%%\n"
    }
   }
  },
  {
   "cell_type": "code",
   "execution_count": null,
   "outputs": [],
   "source": [
    "loaded_model.predict([95.0, ])"
   ],
   "metadata": {
    "collapsed": false,
    "pycharm": {
     "name": "#%%\n"
    }
   }
  },
  {
   "cell_type": "code",
   "execution_count": 86,
   "outputs": [
    {
     "data": {
      "text/plain": "Index(['total_area', 'kitchen_area', 'living_area', 'rooms_count', 'floor',\n       'floors_number', 'build_date', 'isСomplete', 'complitation_year',\n       'house_material', 'longitude', 'latitude', 'passenger_elevator',\n       'cargo_elevator', 'is_apartments', 'is_auction'],\n      dtype='object')"
     },
     "execution_count": 86,
     "metadata": {},
     "output_type": "execute_result"
    }
   ],
   "source": [
    "X_val.columns"
   ],
   "metadata": {
    "collapsed": false,
    "pycharm": {
     "name": "#%%\n"
    }
   }
  },
  {
   "cell_type": "code",
   "execution_count": null,
   "outputs": [],
   "source": [
    "cols = ['total_area', 'kitchen_area', 'living_area', 'rooms_count', 'floor',\n",
    "       'floors_number', 'build_date', 'isСomplete', 'complitation_year',\n",
    "       'house_material', 'longitude', 'latitude', 'passenger_elevator',\n",
    "       'cargo_elevator', 'is_apartments', 'is_auction']\n",
    "cat_cols = ['house_material']\n",
    "\n",
    "for_predict = Pool()"
   ],
   "metadata": {
    "collapsed": false,
    "pycharm": {
     "name": "#%%\n"
    }
   }
  },
  {
   "cell_type": "code",
   "execution_count": 88,
   "outputs": [
    {
     "data": {
      "text/plain": "90361034.16440007"
     },
     "execution_count": 88,
     "metadata": {},
     "output_type": "execute_result"
    }
   ],
   "source": [
    "model.predict(X_val.iloc[0])"
   ],
   "metadata": {
    "collapsed": false,
    "pycharm": {
     "name": "#%%\n"
    }
   }
  },
  {
   "cell_type": "code",
   "execution_count": 90,
   "outputs": [
    {
     "data": {
      "text/plain": "580     100000000\n174      15471700\n246      40651000\n699      55000000\n278      11781000\n          ...    \n160      20661010\n318      28359680\n1136     28000000\n433      97000000\n737      28046440\nName: price, Length: 278, dtype: int64"
     },
     "execution_count": 90,
     "metadata": {},
     "output_type": "execute_result"
    }
   ],
   "source": [
    "y_val"
   ],
   "metadata": {
    "collapsed": false,
    "pycharm": {
     "name": "#%%\n"
    }
   }
  },
  {
   "cell_type": "code",
   "execution_count": 93,
   "outputs": [
    {
     "name": "stdout",
     "output_type": "stream",
     "text": [
      "[95.0 25.0 52.21097708082026 3 11 21 2025.0 0.0 2023.0 'monolith'\n",
      " 37.555391 55.762809 1.0 1.0 0.0 1]\n"
     ]
    }
   ],
   "source": [
    "print(X_val.iloc[0].values)"
   ],
   "metadata": {
    "collapsed": false,
    "pycharm": {
     "name": "#%%\n"
    }
   }
  },
  {
   "cell_type": "code",
   "execution_count": 98,
   "outputs": [
    {
     "data": {
      "text/plain": "'[total_area, kitchen_area, living_area, rooms_count, floor, floors_number, build_date, isСomplete, complitation_year, house_material, longitude, latitude, passenger_elevator,cargo_elevator, is_apartments, is_auction]'"
     },
     "execution_count": 98,
     "metadata": {},
     "output_type": "execute_result"
    }
   ],
   "source": [
    "s = \"['total_area', 'kitchen_area', 'living_area', 'rooms_count', 'floor', 'floors_number', 'build_date', 'isСomplete', 'complitation_year', 'house_material', 'longitude', 'latitude', 'passenger_elevator','cargo_elevator', 'is_apartments', 'is_auction']\"\n",
    "s = s.replace(\"'\", \"\")\n",
    "s"
   ],
   "metadata": {
    "collapsed": false,
    "pycharm": {
     "name": "#%%\n"
    }
   }
  },
  {
   "cell_type": "code",
   "execution_count": 96,
   "outputs": [
    {
     "data": {
      "text/plain": "90361034.16440007"
     },
     "execution_count": 96,
     "metadata": {},
     "output_type": "execute_result"
    }
   ],
   "source": [
    "model.predict([95.0, 25.0, 52.21097708082026, 3, 11, 21, 2025.0, 0.0, 2023.0, 'monolith', 37.555391, 55.762809, 1.0, 1.0, 0.0, 1])\n",
    "38157178\n",
    "90361034"
   ],
   "metadata": {
    "collapsed": false,
    "pycharm": {
     "name": "#%%\n"
    }
   }
  },
  {
   "cell_type": "code",
   "execution_count": 101,
   "outputs": [
    {
     "data": {
      "text/plain": "92212618.2313072"
     },
     "execution_count": 101,
     "metadata": {},
     "output_type": "execute_result"
    }
   ],
   "source": [
    "loaded_model.predict([95.0, 25.0, 52.21097708082026, 3, 11, 21, 2025.0, 0.0, 2023.0, 'monolith', 37.555391, 55.762809, 1.0, 1.0, 0.0, 1])"
   ],
   "metadata": {
    "collapsed": false,
    "pycharm": {
     "name": "#%%\n"
    }
   }
  },
  {
   "cell_type": "code",
   "execution_count": null,
   "outputs": [],
   "source": [],
   "metadata": {
    "collapsed": false,
    "pycharm": {
     "name": "#%%\n"
    }
   }
  }
 ],
 "metadata": {
  "kernelspec": {
   "display_name": "Python 3",
   "language": "python",
   "name": "python3"
  },
  "language_info": {
   "codemirror_mode": {
    "name": "ipython",
    "version": 2
   },
   "file_extension": ".py",
   "mimetype": "text/x-python",
   "name": "python",
   "nbconvert_exporter": "python",
   "pygments_lexer": "ipython2",
   "version": "2.7.6"
  }
 },
 "nbformat": 4,
 "nbformat_minor": 0
}