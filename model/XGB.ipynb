{
 "cells": [
  {
   "cell_type": "code",
   "execution_count": 1,
   "metadata": {
    "pycharm": {
     "name": "#%%\n"
    }
   },
   "outputs": [
    {
     "data": {
      "text/plain": "  region                                address       price  total_area  \\\n0    msk  Москва, Большой Толмачёвский переулок  1996610000       459.4   \n1    msk              Москва, Самотечная ул., 5    66970000       160.0   \n2    msk                        Москва, Ильинка   378820000       157.4   \n3    msk             Москва, М. Бронная ул., 32   110500000       110.5   \n4    msk                        Москва, Ильинка  1031300000       271.8   \n\n   kitchen_area  living_area  rooms_count  floor  floors_number  build_date  \\\n0          81.4        173.3          5.0      7              8         NaN   \n1          25.0        119.0          3.0      3              9      1892.0   \n2          41.1         50.7          3.0      3              5         NaN   \n3          15.0         61.0          3.0      2              6      1912.0   \n4          57.1        123.8          5.0      5              5         NaN   \n\n   ...  longitude   latitude passenger_elevator cargo_elevator  \\\n0  ...  37.620949  55.739757                1.0            1.0   \n1  ...  37.618318  55.775165                1.0            1.0   \n2  ...  37.623649  55.755140                NaN            NaN   \n3  ...  37.593524  55.764197                1.0            0.0   \n4  ...  37.623509  55.755201                NaN            NaN   \n\n                                     metro  metro_distance  \\\n0      Полянка,Новокузнецкая,Третьяковская          6,10,4   \n1  Цветной бульвар,Достоевская,Сухаревская          6,9,13   \n2            Площадь Революции,Театральная             3,6   \n3           Маяковская,Пушкинская,Тверская        10,10,10   \n4            Площадь Революции,Театральная             3,6   \n\n       metro_transport         district  is_apartments  is_auction  \n0  walk,walk,transport     Якиманка,ЦАО            0.0           0  \n1       walk,walk,walk     Тверской,ЦАО            NaN           1  \n2            walk,walk     Тверской,ЦАО            0.0           0  \n3       walk,walk,walk  Пресненский,ЦАО            NaN           1  \n4            walk,walk     Тверской,ЦАО            0.0           0  \n\n[5 rows x 26 columns]",
      "text/html": "<div>\n<style scoped>\n    .dataframe tbody tr th:only-of-type {\n        vertical-align: middle;\n    }\n\n    .dataframe tbody tr th {\n        vertical-align: top;\n    }\n\n    .dataframe thead th {\n        text-align: right;\n    }\n</style>\n<table border=\"1\" class=\"dataframe\">\n  <thead>\n    <tr style=\"text-align: right;\">\n      <th></th>\n      <th>region</th>\n      <th>address</th>\n      <th>price</th>\n      <th>total_area</th>\n      <th>kitchen_area</th>\n      <th>living_area</th>\n      <th>rooms_count</th>\n      <th>floor</th>\n      <th>floors_number</th>\n      <th>build_date</th>\n      <th>...</th>\n      <th>longitude</th>\n      <th>latitude</th>\n      <th>passenger_elevator</th>\n      <th>cargo_elevator</th>\n      <th>metro</th>\n      <th>metro_distance</th>\n      <th>metro_transport</th>\n      <th>district</th>\n      <th>is_apartments</th>\n      <th>is_auction</th>\n    </tr>\n  </thead>\n  <tbody>\n    <tr>\n      <th>0</th>\n      <td>msk</td>\n      <td>Москва, Большой Толмачёвский переулок</td>\n      <td>1996610000</td>\n      <td>459.4</td>\n      <td>81.4</td>\n      <td>173.3</td>\n      <td>5.0</td>\n      <td>7</td>\n      <td>8</td>\n      <td>NaN</td>\n      <td>...</td>\n      <td>37.620949</td>\n      <td>55.739757</td>\n      <td>1.0</td>\n      <td>1.0</td>\n      <td>Полянка,Новокузнецкая,Третьяковская</td>\n      <td>6,10,4</td>\n      <td>walk,walk,transport</td>\n      <td>Якиманка,ЦАО</td>\n      <td>0.0</td>\n      <td>0</td>\n    </tr>\n    <tr>\n      <th>1</th>\n      <td>msk</td>\n      <td>Москва, Самотечная ул., 5</td>\n      <td>66970000</td>\n      <td>160.0</td>\n      <td>25.0</td>\n      <td>119.0</td>\n      <td>3.0</td>\n      <td>3</td>\n      <td>9</td>\n      <td>1892.0</td>\n      <td>...</td>\n      <td>37.618318</td>\n      <td>55.775165</td>\n      <td>1.0</td>\n      <td>1.0</td>\n      <td>Цветной бульвар,Достоевская,Сухаревская</td>\n      <td>6,9,13</td>\n      <td>walk,walk,walk</td>\n      <td>Тверской,ЦАО</td>\n      <td>NaN</td>\n      <td>1</td>\n    </tr>\n    <tr>\n      <th>2</th>\n      <td>msk</td>\n      <td>Москва, Ильинка</td>\n      <td>378820000</td>\n      <td>157.4</td>\n      <td>41.1</td>\n      <td>50.7</td>\n      <td>3.0</td>\n      <td>3</td>\n      <td>5</td>\n      <td>NaN</td>\n      <td>...</td>\n      <td>37.623649</td>\n      <td>55.755140</td>\n      <td>NaN</td>\n      <td>NaN</td>\n      <td>Площадь Революции,Театральная</td>\n      <td>3,6</td>\n      <td>walk,walk</td>\n      <td>Тверской,ЦАО</td>\n      <td>0.0</td>\n      <td>0</td>\n    </tr>\n    <tr>\n      <th>3</th>\n      <td>msk</td>\n      <td>Москва, М. Бронная ул., 32</td>\n      <td>110500000</td>\n      <td>110.5</td>\n      <td>15.0</td>\n      <td>61.0</td>\n      <td>3.0</td>\n      <td>2</td>\n      <td>6</td>\n      <td>1912.0</td>\n      <td>...</td>\n      <td>37.593524</td>\n      <td>55.764197</td>\n      <td>1.0</td>\n      <td>0.0</td>\n      <td>Маяковская,Пушкинская,Тверская</td>\n      <td>10,10,10</td>\n      <td>walk,walk,walk</td>\n      <td>Пресненский,ЦАО</td>\n      <td>NaN</td>\n      <td>1</td>\n    </tr>\n    <tr>\n      <th>4</th>\n      <td>msk</td>\n      <td>Москва, Ильинка</td>\n      <td>1031300000</td>\n      <td>271.8</td>\n      <td>57.1</td>\n      <td>123.8</td>\n      <td>5.0</td>\n      <td>5</td>\n      <td>5</td>\n      <td>NaN</td>\n      <td>...</td>\n      <td>37.623509</td>\n      <td>55.755201</td>\n      <td>NaN</td>\n      <td>NaN</td>\n      <td>Площадь Революции,Театральная</td>\n      <td>3,6</td>\n      <td>walk,walk</td>\n      <td>Тверской,ЦАО</td>\n      <td>0.0</td>\n      <td>0</td>\n    </tr>\n  </tbody>\n</table>\n<p>5 rows × 26 columns</p>\n</div>"
     },
     "execution_count": 1,
     "metadata": {},
     "output_type": "execute_result"
    }
   ],
   "source": [
    "import pandas as pd\n",
    "X_full = pd.read_csv('main_data.csv')\n",
    "X_full.head()"
   ]
  },
  {
   "cell_type": "code",
   "execution_count": 2,
   "metadata": {
    "pycharm": {
     "name": "#%%\n"
    }
   },
   "outputs": [
    {
     "data": {
      "text/plain": "              price   total_area  kitchen_area  living_area  rooms_count  \\\ncount  5.978000e+03  5978.000000   3702.000000  3834.000000  5248.000000   \nmean   2.958911e+07    66.546173     14.366667    33.818258     2.102515   \nstd    8.822499e+07    59.392769     10.142335    33.068501     1.043265   \nmin    1.697000e+06    12.000000      1.000000     2.100000     1.000000   \n25%    6.495618e+06    38.615000      8.000000    16.000000     1.000000   \n50%    9.248100e+06    53.185000     12.700000    26.600000     2.000000   \n75%    1.802593e+07    73.852500     17.900000    39.900000     3.000000   \nmax    2.455020e+09  1285.800000    168.700000   700.000000     6.000000   \n\n             floor  floors_number   build_date   isСomplete  \\\ncount  5978.000000    5978.000000  1497.000000  3797.000000   \nmean      7.840248      16.875878  1999.291917     0.134317   \nstd       7.354915       9.565322    31.715727     0.341037   \nmin      -2.000000       1.000000  1770.000000     0.000000   \n25%       3.000000       9.000000  1985.000000     0.000000   \n50%       5.000000      17.000000  2013.000000     0.000000   \n75%      11.000000      24.000000  2020.000000     0.000000   \nmax      82.000000      95.000000  2026.000000     1.000000   \n\n       complitation_year     balcony    longitude     latitude  \\\ncount        3869.000000  1405.00000  5978.000000  5978.000000   \nmean         2024.574309     0.80000    50.760080    56.604465   \nstd             1.351384     0.69839    17.221261     1.593255   \nmin          2013.000000     0.00000    29.514256    54.856743   \n25%          2024.000000     0.00000    37.565079    55.731537   \n50%          2025.000000     1.00000    44.075142    56.219562   \n75%          2025.000000     1.00000    60.603778    56.819113   \nmax          2028.000000     4.00000    83.123521    60.194665   \n\n       passenger_elevator  cargo_elevator  is_apartments   is_auction  \ncount         3254.000000     2693.000000    5040.000000  5978.000000  \nmean             2.464352        2.580765       0.063492     0.238207  \nstd              3.030908        3.267750       0.243870     0.426022  \nmin              0.000000        0.000000       0.000000     0.000000  \n25%              1.000000        1.000000       0.000000     0.000000  \n50%              2.000000        1.000000       0.000000     0.000000  \n75%              3.000000        3.000000       0.000000     0.000000  \nmax             30.000000       30.000000       1.000000     1.000000  ",
      "text/html": "<div>\n<style scoped>\n    .dataframe tbody tr th:only-of-type {\n        vertical-align: middle;\n    }\n\n    .dataframe tbody tr th {\n        vertical-align: top;\n    }\n\n    .dataframe thead th {\n        text-align: right;\n    }\n</style>\n<table border=\"1\" class=\"dataframe\">\n  <thead>\n    <tr style=\"text-align: right;\">\n      <th></th>\n      <th>price</th>\n      <th>total_area</th>\n      <th>kitchen_area</th>\n      <th>living_area</th>\n      <th>rooms_count</th>\n      <th>floor</th>\n      <th>floors_number</th>\n      <th>build_date</th>\n      <th>isСomplete</th>\n      <th>complitation_year</th>\n      <th>balcony</th>\n      <th>longitude</th>\n      <th>latitude</th>\n      <th>passenger_elevator</th>\n      <th>cargo_elevator</th>\n      <th>is_apartments</th>\n      <th>is_auction</th>\n    </tr>\n  </thead>\n  <tbody>\n    <tr>\n      <th>count</th>\n      <td>5.978000e+03</td>\n      <td>5978.000000</td>\n      <td>3702.000000</td>\n      <td>3834.000000</td>\n      <td>5248.000000</td>\n      <td>5978.000000</td>\n      <td>5978.000000</td>\n      <td>1497.000000</td>\n      <td>3797.000000</td>\n      <td>3869.000000</td>\n      <td>1405.00000</td>\n      <td>5978.000000</td>\n      <td>5978.000000</td>\n      <td>3254.000000</td>\n      <td>2693.000000</td>\n      <td>5040.000000</td>\n      <td>5978.000000</td>\n    </tr>\n    <tr>\n      <th>mean</th>\n      <td>2.958911e+07</td>\n      <td>66.546173</td>\n      <td>14.366667</td>\n      <td>33.818258</td>\n      <td>2.102515</td>\n      <td>7.840248</td>\n      <td>16.875878</td>\n      <td>1999.291917</td>\n      <td>0.134317</td>\n      <td>2024.574309</td>\n      <td>0.80000</td>\n      <td>50.760080</td>\n      <td>56.604465</td>\n      <td>2.464352</td>\n      <td>2.580765</td>\n      <td>0.063492</td>\n      <td>0.238207</td>\n    </tr>\n    <tr>\n      <th>std</th>\n      <td>8.822499e+07</td>\n      <td>59.392769</td>\n      <td>10.142335</td>\n      <td>33.068501</td>\n      <td>1.043265</td>\n      <td>7.354915</td>\n      <td>9.565322</td>\n      <td>31.715727</td>\n      <td>0.341037</td>\n      <td>1.351384</td>\n      <td>0.69839</td>\n      <td>17.221261</td>\n      <td>1.593255</td>\n      <td>3.030908</td>\n      <td>3.267750</td>\n      <td>0.243870</td>\n      <td>0.426022</td>\n    </tr>\n    <tr>\n      <th>min</th>\n      <td>1.697000e+06</td>\n      <td>12.000000</td>\n      <td>1.000000</td>\n      <td>2.100000</td>\n      <td>1.000000</td>\n      <td>-2.000000</td>\n      <td>1.000000</td>\n      <td>1770.000000</td>\n      <td>0.000000</td>\n      <td>2013.000000</td>\n      <td>0.00000</td>\n      <td>29.514256</td>\n      <td>54.856743</td>\n      <td>0.000000</td>\n      <td>0.000000</td>\n      <td>0.000000</td>\n      <td>0.000000</td>\n    </tr>\n    <tr>\n      <th>25%</th>\n      <td>6.495618e+06</td>\n      <td>38.615000</td>\n      <td>8.000000</td>\n      <td>16.000000</td>\n      <td>1.000000</td>\n      <td>3.000000</td>\n      <td>9.000000</td>\n      <td>1985.000000</td>\n      <td>0.000000</td>\n      <td>2024.000000</td>\n      <td>0.00000</td>\n      <td>37.565079</td>\n      <td>55.731537</td>\n      <td>1.000000</td>\n      <td>1.000000</td>\n      <td>0.000000</td>\n      <td>0.000000</td>\n    </tr>\n    <tr>\n      <th>50%</th>\n      <td>9.248100e+06</td>\n      <td>53.185000</td>\n      <td>12.700000</td>\n      <td>26.600000</td>\n      <td>2.000000</td>\n      <td>5.000000</td>\n      <td>17.000000</td>\n      <td>2013.000000</td>\n      <td>0.000000</td>\n      <td>2025.000000</td>\n      <td>1.00000</td>\n      <td>44.075142</td>\n      <td>56.219562</td>\n      <td>2.000000</td>\n      <td>1.000000</td>\n      <td>0.000000</td>\n      <td>0.000000</td>\n    </tr>\n    <tr>\n      <th>75%</th>\n      <td>1.802593e+07</td>\n      <td>73.852500</td>\n      <td>17.900000</td>\n      <td>39.900000</td>\n      <td>3.000000</td>\n      <td>11.000000</td>\n      <td>24.000000</td>\n      <td>2020.000000</td>\n      <td>0.000000</td>\n      <td>2025.000000</td>\n      <td>1.00000</td>\n      <td>60.603778</td>\n      <td>56.819113</td>\n      <td>3.000000</td>\n      <td>3.000000</td>\n      <td>0.000000</td>\n      <td>0.000000</td>\n    </tr>\n    <tr>\n      <th>max</th>\n      <td>2.455020e+09</td>\n      <td>1285.800000</td>\n      <td>168.700000</td>\n      <td>700.000000</td>\n      <td>6.000000</td>\n      <td>82.000000</td>\n      <td>95.000000</td>\n      <td>2026.000000</td>\n      <td>1.000000</td>\n      <td>2028.000000</td>\n      <td>4.00000</td>\n      <td>83.123521</td>\n      <td>60.194665</td>\n      <td>30.000000</td>\n      <td>30.000000</td>\n      <td>1.000000</td>\n      <td>1.000000</td>\n    </tr>\n  </tbody>\n</table>\n</div>"
     },
     "execution_count": 2,
     "metadata": {},
     "output_type": "execute_result"
    }
   ],
   "source": [
    "X_full.describe()"
   ]
  },
  {
   "cell_type": "code",
   "execution_count": 3,
   "metadata": {
    "pycharm": {
     "name": "#%%\n"
    }
   },
   "outputs": [],
   "source": [
    "X_full = X_full[X_full.price < X_full.price.quantile(q=0.95)]"
   ]
  },
  {
   "cell_type": "code",
   "execution_count": 4,
   "metadata": {
    "pycharm": {
     "name": "#%%\n"
    }
   },
   "outputs": [],
   "source": [
    "X_train = X_full.drop('price', axis=1) "
   ]
  },
  {
   "cell_type": "code",
   "execution_count": 5,
   "metadata": {
    "pycharm": {
     "name": "#%%\n"
    }
   },
   "outputs": [],
   "source": [
    "Y = X_full['price']"
   ]
  },
  {
   "cell_type": "code",
   "execution_count": 6,
   "metadata": {
    "pycharm": {
     "name": "#%%\n"
    }
   },
   "outputs": [
    {
     "name": "stderr",
     "output_type": "stream",
     "text": [
      "C:\\Users\\Борис\\AppData\\Local\\Temp\\ipykernel_6868\\338656433.py:3: UserWarning: \n",
      "\n",
      "`distplot` is a deprecated function and will be removed in seaborn v0.14.0.\n",
      "\n",
      "Please adapt your code to use either `displot` (a figure-level function with\n",
      "similar flexibility) or `histplot` (an axes-level function for histograms).\n",
      "\n",
      "For a guide to updating your code to use the new functions, please see\n",
      "https://gist.github.com/mwaskom/de44147ed2974457ad6372750bbe5751\n",
      "\n",
      "  sns.distplot(X_full['price'])\n"
     ]
    },
    {
     "data": {
      "text/plain": "<Axes: xlabel='price', ylabel='Density'>"
     },
     "execution_count": 6,
     "metadata": {},
     "output_type": "execute_result"
    },
    {
     "data": {
      "text/plain": "<Figure size 640x480 with 1 Axes>",
      "image/png": "[encoded data removed]"
     },
     "metadata": {},
     "output_type": "display_data"
    }
   ],
   "source": [
    "import seaborn as sns\n",
    "\n",
    "sns.distplot(X_full['price'])"
   ]
  },
  {
   "cell_type": "code",
   "execution_count": 7,
   "metadata": {
    "pycharm": {
     "name": "#%%\n"
    }
   },
   "outputs": [
    {
     "data": {
      "text/plain": "region\nekb    1000\nnsk    1000\nnng    1000\nkzn     977\nspb     956\nmsk     745\nName: count, dtype: int64"
     },
     "execution_count": 7,
     "metadata": {},
     "output_type": "execute_result"
    }
   ],
   "source": [
    "X_full['region'].value_counts()"
   ]
  },
  {
   "cell_type": "code",
   "execution_count": 8,
   "metadata": {
    "pycharm": {
     "name": "#%%\n"
    }
   },
   "outputs": [
    {
     "data": {
      "text/plain": "(5678, 26)"
     },
     "execution_count": 8,
     "metadata": {},
     "output_type": "execute_result"
    }
   ],
   "source": [
    "X_full.shape"
   ]
  },
  {
   "cell_type": "code",
   "execution_count": 9,
   "metadata": {
    "pycharm": {
     "name": "#%%\n"
    }
   },
   "outputs": [
    {
     "data": {
      "text/plain": "region                   0\naddress                  0\ntotal_area               0\nkitchen_area          2183\nliving_area           2012\nrooms_count            723\nfloor                    0\nfloors_number            0\nbuild_date            4340\nisСomplete            1929\ncomplitation_year     1859\nhouse_material         564\nparking               4435\ndecoration            4484\nbalcony               4359\nlongitude                0\nlatitude                 0\npassenger_elevator    2618\ncargo_elevator        3057\nmetro                  858\nmetro_distance         858\nmetro_transport        858\ndistrict                17\nis_apartments          877\nis_auction               0\ndtype: int64"
     },
     "execution_count": 9,
     "metadata": {},
     "output_type": "execute_result"
    }
   ],
   "source": [
    "X_train.isna().sum()"
   ]
  },
  {
   "cell_type": "markdown",
   "metadata": {
    "pycharm": {
     "name": "#%% md\n"
    }
   },
   "source": [
    "Очень много пропущенно данных(больше половины) в колонках: parking, decoration, balcony, build_date"
   ]
  },
  {
   "cell_type": "code",
   "execution_count": 10,
   "metadata": {
    "pycharm": {
     "name": "#%%\n"
    }
   },
   "outputs": [],
   "source": [
    "X_train['rooms_count'] = X_train['rooms_count'].fillna(1.0)"
   ]
  },
  {
   "cell_type": "markdown",
   "metadata": {
    "pycharm": {
     "name": "#%% md\n"
    }
   },
   "source": [
    "По количеству комнат поиграться посмотреть с каким заполнителем будет лучше.\n",
    "Данные по площади кухни и по жилой площади можно заполнить медианным значением или средним(посмотреть на распределение)"
   ]
  },
  {
   "cell_type": "code",
   "execution_count": 11,
   "metadata": {
    "pycharm": {
     "name": "#%%\n"
    }
   },
   "outputs": [
    {
     "name": "stderr",
     "output_type": "stream",
     "text": [
      "C:\\Users\\Борис\\AppData\\Local\\Temp\\ipykernel_6868\\46938732.py:1: UserWarning: \n",
      "\n",
      "`distplot` is a deprecated function and will be removed in seaborn v0.14.0.\n",
      "\n",
      "Please adapt your code to use either `displot` (a figure-level function with\n",
      "similar flexibility) or `histplot` (an axes-level function for histograms).\n",
      "\n",
      "For a guide to updating your code to use the new functions, please see\n",
      "https://gist.github.com/mwaskom/de44147ed2974457ad6372750bbe5751\n",
      "\n",
      "  sns.distplot(X_train['total_area'])\n"
     ]
    },
    {
     "data": {
      "text/plain": "<Axes: xlabel='total_area', ylabel='Density'>"
     },
     "execution_count": 11,
     "metadata": {},
     "output_type": "execute_result"
    },
    {
     "data": {
      "text/plain": "<Figure size 640x480 with 1 Axes>",
      "image/png": "[encoded data removed]"
     },
     "metadata": {},
     "output_type": "display_data"
    }
   ],
   "source": [
    "sns.distplot(X_train['total_area'])"
   ]
  },
  {
   "cell_type": "code",
   "execution_count": 12,
   "metadata": {
    "pycharm": {
     "name": "#%%\n"
    }
   },
   "outputs": [],
   "source": [
    "X_train['kitchen_area'] = X_train['kitchen_area'].fillna(X_train['kitchen_area'].mean())"
   ]
  },
  {
   "cell_type": "code",
   "execution_count": 13,
   "metadata": {
    "pycharm": {
     "name": "#%%\n"
    }
   },
   "outputs": [],
   "source": [
    "X_train['living_area'] = X_train['living_area'].fillna(X_train['living_area'].mean())"
   ]
  },
  {
   "cell_type": "code",
   "execution_count": 14,
   "metadata": {
    "pycharm": {
     "name": "#%%\n"
    }
   },
   "outputs": [
    {
     "data": {
      "text/plain": "region                   0\naddress                  0\ntotal_area               0\nkitchen_area             0\nliving_area              0\nrooms_count              0\nfloor                    0\nfloors_number            0\nbuild_date            4340\nisСomplete            1929\ncomplitation_year     1859\nhouse_material         564\nparking               4435\ndecoration            4484\nbalcony               4359\nlongitude                0\nlatitude                 0\npassenger_elevator    2618\ncargo_elevator        3057\nmetro                  858\nmetro_distance         858\nmetro_transport        858\ndistrict                17\nis_apartments          877\nis_auction               0\ndtype: int64"
     },
     "execution_count": 14,
     "metadata": {},
     "output_type": "execute_result"
    }
   ],
   "source": [
    "X_train.isna().sum()"
   ]
  },
  {
   "cell_type": "code",
   "execution_count": 15,
   "metadata": {
    "pycharm": {
     "name": "#%%\n"
    }
   },
   "outputs": [
    {
     "data": {
      "text/plain": "        total_area  kitchen_area  living_area  rooms_count        floor  \\\ncount  5678.000000   5678.000000   5678.00000  5678.000000  5678.000000   \nmean     57.822135     13.311845     29.68617     1.864213     7.845720   \nstd      29.909592      5.891554     15.70269     0.911468     7.145964   \nmin      12.000000      1.000000      2.10000     1.000000    -2.000000   \n25%      38.000000     10.600000     20.10000     1.000000     3.000000   \n50%      51.500000     13.311845     29.68617     2.000000     5.000000   \n75%      69.890000     14.200000     29.80000     2.000000    11.000000   \nmax     342.580000     88.000000    194.80000     6.000000    72.000000   \n\n       floors_number   build_date   isСomplete  complitation_year  \\\ncount    5678.000000  1338.000000  3749.000000        3819.000000   \nmean       17.132617  1998.227205     0.132569        2024.589421   \nstd         9.325511    32.374063     0.339153           1.317789   \nmin         1.000000  1770.000000     0.000000        2013.000000   \n25%         9.000000  1982.000000     0.000000        2024.000000   \n50%        17.000000  2012.500000     0.000000        2025.000000   \n75%        24.000000  2021.000000     0.000000        2025.000000   \nmax        85.000000  2026.000000     1.000000        2028.000000   \n\n           balcony    longitude     latitude  passenger_elevator  \\\ncount  1319.000000  5678.000000  5678.000000         3060.000000   \nmean      0.782411    51.511036    56.617309            2.498366   \nstd       0.686169    17.338544     1.597258            3.058063   \nmin       0.000000    29.514256    54.856743            0.000000   \n25%       0.000000    37.580422    55.731936            1.000000   \n50%       1.000000    49.096911    56.266072            2.000000   \n75%       1.000000    60.612492    56.821564            3.000000   \nmax       4.000000    83.123521    60.194665           30.000000   \n\n       cargo_elevator  is_apartments   is_auction  \ncount     2621.000000    4801.000000  5678.000000  \nmean         2.611599       0.058113     0.206763  \nstd          3.264580       0.233981     0.405020  \nmin          0.000000       0.000000     0.000000  \n25%          1.000000       0.000000     0.000000  \n50%          1.000000       0.000000     0.000000  \n75%          3.000000       0.000000     0.000000  \nmax         30.000000       1.000000     1.000000  ",
      "text/html": "<div>\n<style scoped>\n    .dataframe tbody tr th:only-of-type {\n        vertical-align: middle;\n    }\n\n    .dataframe tbody tr th {\n        vertical-align: top;\n    }\n\n    .dataframe thead th {\n        text-align: right;\n    }\n</style>\n<table border=\"1\" class=\"dataframe\">\n  <thead>\n    <tr style=\"text-align: right;\">\n      <th></th>\n      <th>total_area</th>\n      <th>kitchen_area</th>\n      <th>living_area</th>\n      <th>rooms_count</th>\n      <th>floor</th>\n      <th>floors_number</th>\n      <th>build_date</th>\n      <th>isСomplete</th>\n      <th>complitation_year</th>\n      <th>balcony</th>\n      <th>longitude</th>\n      <th>latitude</th>\n      <th>passenger_elevator</th>\n      <th>cargo_elevator</th>\n      <th>is_apartments</th>\n      <th>is_auction</th>\n    </tr>\n  </thead>\n  <tbody>\n    <tr>\n      <th>count</th>\n      <td>5678.000000</td>\n      <td>5678.000000</td>\n      <td>5678.00000</td>\n      <td>5678.000000</td>\n      <td>5678.000000</td>\n      <td>5678.000000</td>\n      <td>1338.000000</td>\n      <td>3749.000000</td>\n      <td>3819.000000</td>\n      <td>1319.000000</td>\n      <td>5678.000000</td>\n      <td>5678.000000</td>\n      <td>3060.000000</td>\n      <td>2621.000000</td>\n      <td>4801.000000</td>\n      <td>5678.000000</td>\n    </tr>\n    <tr>\n      <th>mean</th>\n      <td>57.822135</td>\n      <td>13.311845</td>\n      <td>29.68617</td>\n      <td>1.864213</td>\n      <td>7.845720</td>\n      <td>17.132617</td>\n      <td>1998.227205</td>\n      <td>0.132569</td>\n      <td>2024.589421</td>\n      <td>0.782411</td>\n      <td>51.511036</td>\n      <td>56.617309</td>\n      <td>2.498366</td>\n      <td>2.611599</td>\n      <td>0.058113</td>\n      <td>0.206763</td>\n    </tr>\n    <tr>\n      <th>std</th>\n      <td>29.909592</td>\n      <td>5.891554</td>\n      <td>15.70269</td>\n      <td>0.911468</td>\n      <td>7.145964</td>\n      <td>9.325511</td>\n      <td>32.374063</td>\n      <td>0.339153</td>\n      <td>1.317789</td>\n      <td>0.686169</td>\n      <td>17.338544</td>\n      <td>1.597258</td>\n      <td>3.058063</td>\n      <td>3.264580</td>\n      <td>0.233981</td>\n      <td>0.405020</td>\n    </tr>\n    <tr>\n      <th>min</th>\n      <td>12.000000</td>\n      <td>1.000000</td>\n      <td>2.10000</td>\n      <td>1.000000</td>\n      <td>-2.000000</td>\n      <td>1.000000</td>\n      <td>1770.000000</td>\n      <td>0.000000</td>\n      <td>2013.000000</td>\n      <td>0.000000</td>\n      <td>29.514256</td>\n      <td>54.856743</td>\n      <td>0.000000</td>\n      <td>0.000000</td>\n      <td>0.000000</td>\n      <td>0.000000</td>\n    </tr>\n    <tr>\n      <th>25%</th>\n      <td>38.000000</td>\n      <td>10.600000</td>\n      <td>20.10000</td>\n      <td>1.000000</td>\n      <td>3.000000</td>\n      <td>9.000000</td>\n      <td>1982.000000</td>\n      <td>0.000000</td>\n      <td>2024.000000</td>\n      <td>0.000000</td>\n      <td>37.580422</td>\n      <td>55.731936</td>\n      <td>1.000000</td>\n      <td>1.000000</td>\n      <td>0.000000</td>\n      <td>0.000000</td>\n    </tr>\n    <tr>\n      <th>50%</th>\n      <td>51.500000</td>\n      <td>13.311845</td>\n      <td>29.68617</td>\n      <td>2.000000</td>\n      <td>5.000000</td>\n      <td>17.000000</td>\n      <td>2012.500000</td>\n      <td>0.000000</td>\n      <td>2025.000000</td>\n      <td>1.000000</td>\n      <td>49.096911</td>\n      <td>56.266072</td>\n      <td>2.000000</td>\n      <td>1.000000</td>\n      <td>0.000000</td>\n      <td>0.000000</td>\n    </tr>\n    <tr>\n      <th>75%</th>\n      <td>69.890000</td>\n      <td>14.200000</td>\n      <td>29.80000</td>\n      <td>2.000000</td>\n      <td>11.000000</td>\n      <td>24.000000</td>\n      <td>2021.000000</td>\n      <td>0.000000</td>\n      <td>2025.000000</td>\n      <td>1.000000</td>\n      <td>60.612492</td>\n      <td>56.821564</td>\n      <td>3.000000</td>\n      <td>3.000000</td>\n      <td>0.000000</td>\n      <td>0.000000</td>\n    </tr>\n    <tr>\n      <th>max</th>\n      <td>342.580000</td>\n      <td>88.000000</td>\n      <td>194.80000</td>\n      <td>6.000000</td>\n      <td>72.000000</td>\n      <td>85.000000</td>\n      <td>2026.000000</td>\n      <td>1.000000</td>\n      <td>2028.000000</td>\n      <td>4.000000</td>\n      <td>83.123521</td>\n      <td>60.194665</td>\n      <td>30.000000</td>\n      <td>30.000000</td>\n      <td>1.000000</td>\n      <td>1.000000</td>\n    </tr>\n  </tbody>\n</table>\n</div>"
     },
     "execution_count": 15,
     "metadata": {},
     "output_type": "execute_result"
    }
   ],
   "source": [
    "X_train.describe()"
   ]
  },
  {
   "cell_type": "markdown",
   "metadata": {
    "pycharm": {
     "name": "#%% md\n"
    }
   },
   "source": [
    "Ниже пример расчёта расстояния между объектами"
   ]
  },
  {
   "cell_type": "code",
   "execution_count": 16,
   "metadata": {
    "pycharm": {
     "name": "#%%\n"
    }
   },
   "outputs": [
    {
     "data": {
      "text/plain": "1378.41432362998"
     },
     "execution_count": 16,
     "metadata": {},
     "output_type": "execute_result"
    }
   ],
   "source": [
    "from geopy.distance import geodesic\n",
    "\n",
    "# Предположим, что у вас есть координаты двух объектов\n",
    "location1 = (55.739757, 37.620949) #Москва, Большой Толмачёвский переулок\n",
    "location2 = (55.752004, 37.617734) #Кремль\n",
    "\n",
    "# Расчет удаленности между объектами\n",
    "distance = geodesic(location1, location2).meters\n",
    "distance"
   ]
  },
  {
   "cell_type": "code",
   "execution_count": 17,
   "metadata": {
    "pycharm": {
     "name": "#%%\n"
    }
   },
   "outputs": [],
   "source": [
    "X_train = X_train.drop(columns={'address', 'district'}, axis=1)"
   ]
  },
  {
   "cell_type": "code",
   "execution_count": 18,
   "metadata": {
    "pycharm": {
     "name": "#%%\n"
    }
   },
   "outputs": [
    {
     "data": {
      "text/plain": "balcony\n1.0    801\n0.0    426\n2.0     57\n3.0     23\n4.0     12\nName: count, dtype: int64"
     },
     "execution_count": 18,
     "metadata": {},
     "output_type": "execute_result"
    }
   ],
   "source": [
    "X_train['balcony'].value_counts() #Как может быть значение 2,3 или 4...Возможно количество балконов"
   ]
  },
  {
   "cell_type": "markdown",
   "metadata": {
    "pycharm": {
     "name": "#%% md\n"
    }
   },
   "source": [
    "Дата начала постройки неизвестна в половине данных, нужно посмотреть что там с датой сдачи"
   ]
  },
  {
   "cell_type": "code",
   "execution_count": 19,
   "metadata": {
    "pycharm": {
     "name": "#%%\n"
    }
   },
   "outputs": [
    {
     "data": {
      "text/plain": "1859"
     },
     "execution_count": 19,
     "metadata": {},
     "output_type": "execute_result"
    }
   ],
   "source": [
    "X_train['complitation_year'].isna().sum()"
   ]
  },
  {
   "cell_type": "code",
   "execution_count": 20,
   "metadata": {
    "pycharm": {
     "name": "#%%\n"
    }
   },
   "outputs": [
    {
     "name": "stderr",
     "output_type": "stream",
     "text": [
      "C:\\Users\\Борис\\AppData\\Local\\Temp\\ipykernel_6868\\3367358660.py:1: UserWarning: \n",
      "\n",
      "`distplot` is a deprecated function and will be removed in seaborn v0.14.0.\n",
      "\n",
      "Please adapt your code to use either `displot` (a figure-level function with\n",
      "similar flexibility) or `histplot` (an axes-level function for histograms).\n",
      "\n",
      "For a guide to updating your code to use the new functions, please see\n",
      "https://gist.github.com/mwaskom/de44147ed2974457ad6372750bbe5751\n",
      "\n",
      "  sns.distplot(X_train['complitation_year'])\n"
     ]
    },
    {
     "data": {
      "text/plain": "<Axes: xlabel='complitation_year', ylabel='Density'>"
     },
     "execution_count": 20,
     "metadata": {},
     "output_type": "execute_result"
    },
    {
     "data": {
      "text/plain": "<Figure size 640x480 with 1 Axes>",
      "image/png": "[encoded data removed]"
     },
     "metadata": {},
     "output_type": "display_data"
    }
   ],
   "source": [
    "sns.distplot(X_train['complitation_year'])"
   ]
  },
  {
   "cell_type": "code",
   "execution_count": 21,
   "metadata": {
    "pycharm": {
     "name": "#%%\n"
    }
   },
   "outputs": [],
   "source": [
    "X_train['build_date'] = X_train['build_date'].fillna(2025)"
   ]
  },
  {
   "cell_type": "code",
   "execution_count": 22,
   "metadata": {
    "pycharm": {
     "name": "#%%\n"
    }
   },
   "outputs": [],
   "source": [
    "X_train['complitation_year'] = X_train['complitation_year'].fillna(2023)"
   ]
  },
  {
   "cell_type": "code",
   "execution_count": 23,
   "metadata": {
    "pycharm": {
     "name": "#%%\n"
    }
   },
   "outputs": [
    {
     "data": {
      "text/plain": "(2024.0690383938006, 2024.0)"
     },
     "execution_count": 23,
     "metadata": {},
     "output_type": "execute_result"
    }
   ],
   "source": [
    "import numpy as np\n",
    "mean = np.mean(X_train['complitation_year'])\n",
    "median = np.nanmedian(X_train['complitation_year'])\n",
    "mean, median"
   ]
  },
  {
   "cell_type": "code",
   "execution_count": 24,
   "metadata": {
    "pycharm": {
     "name": "#%%\n"
    }
   },
   "outputs": [
    {
     "data": {
      "text/plain": "isСomplete\n0.0    3252\n1.0     497\nName: count, dtype: int64"
     },
     "execution_count": 24,
     "metadata": {},
     "output_type": "execute_result"
    }
   ],
   "source": [
    "X_train['isСomplete'].value_counts()"
   ]
  },
  {
   "cell_type": "code",
   "execution_count": 25,
   "metadata": {
    "pycharm": {
     "name": "#%%\n"
    }
   },
   "outputs": [
    {
     "name": "stdout",
     "output_type": "stream",
     "text": [
      "После: isСomplete\n",
      "0.0    3271\n",
      "1.0    1813\n",
      "Name: count, dtype: int64\n"
     ]
    }
   ],
   "source": [
    "# Заполнение пропусков в столбце isComplete\n",
    "# Подумать над заполнением пустых данных\n",
    "# Если дата постройки дома (build_date) < 2024, то дом построен\n",
    "X_train.loc[X_train['build_date'].astype(int) < 2024, 'isСomplete'] = 1\n",
    "# Если дата окончания строительства (complitation_year) > 2024, то дом не построен\n",
    "X_train.loc[X_train['complitation_year'].astype(int) > 2024, 'isСomplete'] = 0\n",
    "\n",
    "print('После:', X_train['isСomplete'].value_counts())"
   ]
  },
  {
   "cell_type": "code",
   "execution_count": 26,
   "metadata": {
    "pycharm": {
     "name": "#%%\n"
    }
   },
   "outputs": [],
   "source": [
    "X_train.loc[X_train['build_date'].astype(int) >= X_train['complitation_year'].astype(int), 'isСomplete'] = 0"
   ]
  },
  {
   "cell_type": "code",
   "execution_count": 27,
   "metadata": {
    "pycharm": {
     "name": "#%%\n"
    }
   },
   "outputs": [
    {
     "data": {
      "text/plain": "'monolithBrick'"
     },
     "execution_count": 27,
     "metadata": {},
     "output_type": "execute_result"
    }
   ],
   "source": [
    "most_value_count = X_train['house_material'].value_counts().index[0]\n",
    "most_value_count"
   ]
  },
  {
   "cell_type": "code",
   "execution_count": 28,
   "metadata": {
    "pycharm": {
     "name": "#%%\n"
    }
   },
   "outputs": [],
   "source": [
    "X_train['house_material'] = X_train['house_material'].fillna(most_value_count)"
   ]
  },
  {
   "cell_type": "code",
   "execution_count": 29,
   "metadata": {
    "pycharm": {
     "name": "#%%\n"
    }
   },
   "outputs": [],
   "source": [
    "X_train = X_train.drop(columns={'metro', 'metro_distance', 'metro_transport','decoration', 'balcony', 'parking'}, axis=1)"
   ]
  },
  {
   "cell_type": "markdown",
   "metadata": {
    "pycharm": {
     "name": "#%% md\n"
    }
   },
   "source": [
    "По сути всеьколонки связанные с метро можно удалить, так как будем использовать нашу идею, связанную с растояниями. Также стоит удалить признак связанный с балконом из за недостаточности данных, слишком много пропусков, востанавливать бессмысленно, такая же ситуация с парковкой. Данную ситуацию стоит посмотреть уже на большом датасете"
   ]
  },
  {
   "cell_type": "code",
   "execution_count": 30,
   "metadata": {
    "pycharm": {
     "name": "#%%\n"
    }
   },
   "outputs": [],
   "source": [
    "X_train.loc[X_train['floors_number'].astype(int) > 5, 'passenger_elevator'] = 1\n",
    "X_train.loc[X_train['floors_number'].astype(int) <= 5, 'passenger_elevator'] = 0"
   ]
  },
  {
   "cell_type": "markdown",
   "metadata": {
    "pycharm": {
     "name": "#%% md\n"
    }
   },
   "source": [
    "Стоит поискать нормативные документы по поводу того с какого количества этажей лифт становится обязательным"
   ]
  },
  {
   "cell_type": "code",
   "execution_count": 31,
   "metadata": {
    "pycharm": {
     "name": "#%%\n"
    }
   },
   "outputs": [],
   "source": [
    "X_train.loc[X_train['floors_number'].astype(int) > 5, 'cargo_elevator'] = 1\n",
    "X_train.loc[X_train['floors_number'].astype(int) <= 5, 'cargo_elevator'] = 0"
   ]
  },
  {
   "cell_type": "code",
   "execution_count": 32,
   "metadata": {
    "pycharm": {
     "name": "#%%\n"
    }
   },
   "outputs": [],
   "source": [
    "X_train['is_apartments'] = X_train['is_apartments'].fillna(0.0)"
   ]
  },
  {
   "cell_type": "code",
   "execution_count": 33,
   "metadata": {
    "pycharm": {
     "name": "#%%\n"
    }
   },
   "outputs": [
    {
     "data": {
      "text/plain": "region                0\ntotal_area            0\nkitchen_area          0\nliving_area           0\nrooms_count           0\nfloor                 0\nfloors_number         0\nbuild_date            0\nisСomplete            0\ncomplitation_year     0\nhouse_material        0\nlongitude             0\nlatitude              0\npassenger_elevator    0\ncargo_elevator        0\nis_apartments         0\nis_auction            0\ndtype: int64"
     },
     "execution_count": 33,
     "metadata": {},
     "output_type": "execute_result"
    }
   ],
   "source": [
    "X_train.isna().sum()"
   ]
  },
  {
   "cell_type": "markdown",
   "metadata": {
    "pycharm": {
     "name": "#%% md\n"
    }
   },
   "source": [
    "Теперь можно применять OHE и выкатывать модель"
   ]
  },
  {
   "cell_type": "code",
   "execution_count": 34,
   "metadata": {
    "pycharm": {
     "name": "#%%\n"
    }
   },
   "outputs": [
    {
     "data": {
      "text/plain": "   region  total_area  kitchen_area  living_area  rooms_count  floor  \\\n1     msk       160.0     25.000000    119.00000          3.0      3   \n3     msk       110.5     15.000000     61.00000          3.0      2   \n10    msk       127.0     13.311845     29.68617          3.0      3   \n14    msk        62.3     23.700000     29.68617          2.0      8   \n18    msk        49.8     13.311845     27.90000          2.0      9   \n\n    floors_number  build_date  isСomplete  complitation_year house_material  \\\n1               9      1892.0         1.0             2023.0          brick   \n3               6      1912.0         1.0             2023.0          brick   \n10              7      2025.0         0.0             2022.0  monolithBrick   \n14              9      2025.0         0.0             2022.0       monolith   \n18             17      2025.0         0.0             2026.0       monolith   \n\n    longitude   latitude  passenger_elevator  cargo_elevator  is_apartments  \\\n1   37.618318  55.775165                 1.0             1.0            0.0   \n3   37.593524  55.764197                 1.0             1.0            0.0   \n10  37.623959  55.747611                 1.0             1.0            1.0   \n14  37.594868  55.771088                 1.0             1.0            1.0   \n18  37.571184  55.715275                 1.0             1.0            0.0   \n\n    is_auction  \n1            1  \n3            1  \n10           0  \n14           0  \n18           0  ",
      "text/html": "<div>\n<style scoped>\n    .dataframe tbody tr th:only-of-type {\n        vertical-align: middle;\n    }\n\n    .dataframe tbody tr th {\n        vertical-align: top;\n    }\n\n    .dataframe thead th {\n        text-align: right;\n    }\n</style>\n<table border=\"1\" class=\"dataframe\">\n  <thead>\n    <tr style=\"text-align: right;\">\n      <th></th>\n      <th>region</th>\n      <th>total_area</th>\n      <th>kitchen_area</th>\n      <th>living_area</th>\n      <th>rooms_count</th>\n      <th>floor</th>\n      <th>floors_number</th>\n      <th>build_date</th>\n      <th>isСomplete</th>\n      <th>complitation_year</th>\n      <th>house_material</th>\n      <th>longitude</th>\n      <th>latitude</th>\n      <th>passenger_elevator</th>\n      <th>cargo_elevator</th>\n      <th>is_apartments</th>\n      <th>is_auction</th>\n    </tr>\n  </thead>\n  <tbody>\n    <tr>\n      <th>1</th>\n      <td>msk</td>\n      <td>160.0</td>\n      <td>25.000000</td>\n      <td>119.00000</td>\n      <td>3.0</td>\n      <td>3</td>\n      <td>9</td>\n      <td>1892.0</td>\n      <td>1.0</td>\n      <td>2023.0</td>\n      <td>brick</td>\n      <td>37.618318</td>\n      <td>55.775165</td>\n      <td>1.0</td>\n      <td>1.0</td>\n      <td>0.0</td>\n      <td>1</td>\n    </tr>\n    <tr>\n      <th>3</th>\n      <td>msk</td>\n      <td>110.5</td>\n      <td>15.000000</td>\n      <td>61.00000</td>\n      <td>3.0</td>\n      <td>2</td>\n      <td>6</td>\n      <td>1912.0</td>\n      <td>1.0</td>\n      <td>2023.0</td>\n      <td>brick</td>\n      <td>37.593524</td>\n      <td>55.764197</td>\n      <td>1.0</td>\n      <td>1.0</td>\n      <td>0.0</td>\n      <td>1</td>\n    </tr>\n    <tr>\n      <th>10</th>\n      <td>msk</td>\n      <td>127.0</td>\n      <td>13.311845</td>\n      <td>29.68617</td>\n      <td>3.0</td>\n      <td>3</td>\n      <td>7</td>\n      <td>2025.0</td>\n      <td>0.0</td>\n      <td>2022.0</td>\n      <td>monolithBrick</td>\n      <td>37.623959</td>\n      <td>55.747611</td>\n      <td>1.0</td>\n      <td>1.0</td>\n      <td>1.0</td>\n      <td>0</td>\n    </tr>\n    <tr>\n      <th>14</th>\n      <td>msk</td>\n      <td>62.3</td>\n      <td>23.700000</td>\n      <td>29.68617</td>\n      <td>2.0</td>\n      <td>8</td>\n      <td>9</td>\n      <td>2025.0</td>\n      <td>0.0</td>\n      <td>2022.0</td>\n      <td>monolith</td>\n      <td>37.594868</td>\n      <td>55.771088</td>\n      <td>1.0</td>\n      <td>1.0</td>\n      <td>1.0</td>\n      <td>0</td>\n    </tr>\n    <tr>\n      <th>18</th>\n      <td>msk</td>\n      <td>49.8</td>\n      <td>13.311845</td>\n      <td>27.90000</td>\n      <td>2.0</td>\n      <td>9</td>\n      <td>17</td>\n      <td>2025.0</td>\n      <td>0.0</td>\n      <td>2026.0</td>\n      <td>monolith</td>\n      <td>37.571184</td>\n      <td>55.715275</td>\n      <td>1.0</td>\n      <td>1.0</td>\n      <td>0.0</td>\n      <td>0</td>\n    </tr>\n  </tbody>\n</table>\n</div>"
     },
     "execution_count": 34,
     "metadata": {},
     "output_type": "execute_result"
    }
   ],
   "source": [
    "X_train.head()"
   ]
  },
  {
   "cell_type": "code",
   "execution_count": 35,
   "metadata": {
    "pycharm": {
     "name": "#%%\n"
    }
   },
   "outputs": [],
   "source": [
    "X_train = pd.get_dummies(X_train, dtype=int)"
   ]
  },
  {
   "cell_type": "code",
   "execution_count": 36,
   "metadata": {
    "pycharm": {
     "name": "#%%\n"
    }
   },
   "outputs": [],
   "source": [
    "from sklearn.model_selection import train_test_split\n",
    "X_trained, X_val, y_trained, y_val = train_test_split(X_train, Y, test_size=0.2, random_state=42)"
   ]
  },
  {
   "cell_type": "code",
   "execution_count": 37,
   "metadata": {
    "pycharm": {
     "name": "#%%\n"
    }
   },
   "outputs": [
    {
     "name": "stdout",
     "output_type": "stream",
     "text": [
      "[LightGBM] [Info] Auto-choosing col-wise multi-threading, the overhead of testing was 0.000738 seconds.\n",
      "You can set `force_col_wise=true` to remove the overhead.\n",
      "[LightGBM] [Info] Total Bins 1507\n",
      "[LightGBM] [Info] Number of data points in the train set: 4542, number of used features: 26\n",
      "[LightGBM] [Info] Start training from score 15190790.342580\n",
      "total_area: 8363758.972536442\n",
      "region_msk: 6525251.175740945\n",
      "latitude: 2687143.592490634\n",
      "longitude: 2303608.887035642\n",
      "floors_number: 869442.4512734739\n",
      "build_date: 667685.2804861142\n",
      "floor: 148411.74388950993\n",
      "rooms_count: 148078.4159365944\n",
      "complitation_year: 116045.99590701117\n",
      "house_material_monolithBrick: 95246.06496854508\n",
      "house_material_brick: 88699.42852209277\n",
      "kitchen_area: 60525.71643798403\n",
      "is_auction: 47491.540046693146\n",
      "house_material_monolith: 42613.141432015036\n",
      "is_apartments: 22137.990474968337\n"
     ]
    }
   ],
   "source": [
    "import lightgbm as lgb\n",
    "from sklearn.metrics import mean_squared_log_error\n",
    "from sklearn.inspection import permutation_importance\n",
    "\n",
    "# Train the LightGBM model\n",
    "model = lgb.LGBMRegressor()\n",
    "model.fit(X_trained, y_trained)\n",
    "\n",
    "# Get permutation materiality\n",
    "result = permutation_importance(model, X_val, y_val, scoring='neg_root_mean_squared_error', n_repeats=100, random_state=42)\n",
    "sorted_indices = np.argsort(result.importances_mean)[::-1]\n",
    "\n",
    "# Show the most important features and their respective importance values\n",
    "top_features = X_trained.columns[sorted_indices[:15]]  # Most 15 importend feature\n",
    "top_importances = result.importances_mean[sorted_indices[:15]]\n",
    "for feature, importance in zip(top_features, top_importances):\n",
    "    print(f\"{feature}: {importance}\")"
   ]
  },
  {
   "cell_type": "code",
   "execution_count": 38,
   "metadata": {
    "pycharm": {
     "name": "#%%\n"
    }
   },
   "outputs": [],
   "source": [
    "X_trained = X_trained[top_features]\n",
    "X_val = X_val[top_features]"
   ]
  },
  {
   "cell_type": "code",
   "execution_count": 39,
   "metadata": {
    "pycharm": {
     "name": "#%%\n"
    }
   },
   "outputs": [
    {
     "data": {
      "text/plain": "      total_area  region_msk   latitude  longitude  floors_number  build_date  \\\n1358       23.66           0  60.030357  30.202671             14      2022.0   \n968        93.00           1  55.718060  37.496650             14      2021.0   \n4418       42.70           0  55.824739  49.155408             18      2013.0   \n892        48.00           1  55.794173  37.542213             37      2021.0   \n4941       83.69           0  55.780573  49.106999              9      2025.0   \n\n      floor  rooms_count  complitation_year  house_material_monolithBrick  \\\n1358     12          1.0             2023.0                             1   \n968      12          4.0             2023.0                             0   \n4418     17          1.0             2023.0                             0   \n892      37          1.0             2023.0                             0   \n4941      7          3.0             2024.0                             1   \n\n      house_material_brick  kitchen_area  is_auction  house_material_monolith  \\\n1358                     0     13.311845           1                        0   \n968                      0     14.000000           1                        1   \n4418                     1     11.900000           0                        0   \n892                      0      6.000000           1                        1   \n4941                     0     20.700000           0                        0   \n\n      is_apartments  \n1358            0.0  \n968             0.0  \n4418            0.0  \n892             0.0  \n4941            0.0  ",
      "text/html": "<div>\n<style scoped>\n    .dataframe tbody tr th:only-of-type {\n        vertical-align: middle;\n    }\n\n    .dataframe tbody tr th {\n        vertical-align: top;\n    }\n\n    .dataframe thead th {\n        text-align: right;\n    }\n</style>\n<table border=\"1\" class=\"dataframe\">\n  <thead>\n    <tr style=\"text-align: right;\">\n      <th></th>\n      <th>total_area</th>\n      <th>region_msk</th>\n      <th>latitude</th>\n      <th>longitude</th>\n      <th>floors_number</th>\n      <th>build_date</th>\n      <th>floor</th>\n      <th>rooms_count</th>\n      <th>complitation_year</th>\n      <th>house_material_monolithBrick</th>\n      <th>house_material_brick</th>\n      <th>kitchen_area</th>\n      <th>is_auction</th>\n      <th>house_material_monolith</th>\n      <th>is_apartments</th>\n    </tr>\n  </thead>\n  <tbody>\n    <tr>\n      <th>1358</th>\n      <td>23.66</td>\n      <td>0</td>\n      <td>60.030357</td>\n      <td>30.202671</td>\n      <td>14</td>\n      <td>2022.0</td>\n      <td>12</td>\n      <td>1.0</td>\n      <td>2023.0</td>\n      <td>1</td>\n      <td>0</td>\n      <td>13.311845</td>\n      <td>1</td>\n      <td>0</td>\n      <td>0.0</td>\n    </tr>\n    <tr>\n      <th>968</th>\n      <td>93.00</td>\n      <td>1</td>\n      <td>55.718060</td>\n      <td>37.496650</td>\n      <td>14</td>\n      <td>2021.0</td>\n      <td>12</td>\n      <td>4.0</td>\n      <td>2023.0</td>\n      <td>0</td>\n      <td>0</td>\n      <td>14.000000</td>\n      <td>1</td>\n      <td>1</td>\n      <td>0.0</td>\n    </tr>\n    <tr>\n      <th>4418</th>\n      <td>42.70</td>\n      <td>0</td>\n      <td>55.824739</td>\n      <td>49.155408</td>\n      <td>18</td>\n      <td>2013.0</td>\n      <td>17</td>\n      <td>1.0</td>\n      <td>2023.0</td>\n      <td>0</td>\n      <td>1</td>\n      <td>11.900000</td>\n      <td>0</td>\n      <td>0</td>\n      <td>0.0</td>\n    </tr>\n    <tr>\n      <th>892</th>\n      <td>48.00</td>\n      <td>1</td>\n      <td>55.794173</td>\n      <td>37.542213</td>\n      <td>37</td>\n      <td>2021.0</td>\n      <td>37</td>\n      <td>1.0</td>\n      <td>2023.0</td>\n      <td>0</td>\n      <td>0</td>\n      <td>6.000000</td>\n      <td>1</td>\n      <td>1</td>\n      <td>0.0</td>\n    </tr>\n    <tr>\n      <th>4941</th>\n      <td>83.69</td>\n      <td>0</td>\n      <td>55.780573</td>\n      <td>49.106999</td>\n      <td>9</td>\n      <td>2025.0</td>\n      <td>7</td>\n      <td>3.0</td>\n      <td>2024.0</td>\n      <td>1</td>\n      <td>0</td>\n      <td>20.700000</td>\n      <td>0</td>\n      <td>0</td>\n      <td>0.0</td>\n    </tr>\n  </tbody>\n</table>\n</div>"
     },
     "execution_count": 39,
     "metadata": {},
     "output_type": "execute_result"
    }
   ],
   "source": [
    "X_trained.head()"
   ]
  },
  {
   "cell_type": "code",
   "execution_count": 40,
   "metadata": {
    "pycharm": {
     "name": "#%%\n"
    }
   },
   "outputs": [
    {
     "name": "stderr",
     "output_type": "stream",
     "text": [
      "[I 2024-03-20 15:15:54,334] A new study created in memory with name: no-name-8264e71d-540a-40e2-bb75-422fcd1f44db\n",
      "[I 2024-03-20 15:15:55,302] Trial 0 finished with value: 0.8609090565058046 and parameters: {'max_depth': 5, 'learning_rate': 0.6375506229002812, 'n_estimators': 333, 'min_child_weight': 26, 'gamma': 0.03691327564049769, 'subsample': 0.7377791580181476, 'colsample_bytree': 0.39834936838690554, 'reg_alpha': 0.7708467100708962, 'reg_lambda': 0.36367479933692165}. Best is trial 0 with value: 0.8609090565058046.\n",
      "[I 2024-03-20 15:15:55,847] Trial 1 finished with value: 0.7976613988408905 and parameters: {'max_depth': 9, 'learning_rate': 0.8603202460194583, 'n_estimators': 122, 'min_child_weight': 53, 'gamma': 0.20783935170880216, 'subsample': 0.4654502333612659, 'colsample_bytree': 0.4612066125901339, 'reg_alpha': 0.7073639972552201, 'reg_lambda': 0.4339986805365463}. Best is trial 0 with value: 0.8609090565058046.\n",
      "[I 2024-03-20 15:15:58,599] Trial 2 finished with value: 0.8801113859417138 and parameters: {'max_depth': 9, 'learning_rate': 0.5737084331848713, 'n_estimators': 567, 'min_child_weight': 37, 'gamma': 0.21877625370269566, 'subsample': 0.7787930441114292, 'colsample_bytree': 0.8213179726013969, 'reg_alpha': 0.6817333525672759, 'reg_lambda': 0.035835651765142404}. Best is trial 2 with value: 0.8801113859417138.\n",
      "[I 2024-03-20 15:15:58,787] Trial 3 finished with value: 0.8378240587945622 and parameters: {'max_depth': 2, 'learning_rate': 0.7854793417535006, 'n_estimators': 58, 'min_child_weight': 75, 'gamma': 0.8901747194585432, 'subsample': 0.5428689367224522, 'colsample_bytree': 0.9684381827235495, 'reg_alpha': 0.5951337114645816, 'reg_lambda': 0.8319801561702472}. Best is trial 2 with value: 0.8801113859417138.\n",
      "[I 2024-03-20 15:15:59,353] Trial 4 finished with value: 0.803413515168472 and parameters: {'max_depth': 3, 'learning_rate': 0.8895258950818938, 'n_estimators': 275, 'min_child_weight': 2, 'gamma': 0.04170903661222363, 'subsample': 0.9232638812783575, 'colsample_bytree': 0.07858451190821987, 'reg_alpha': 0.8778614798523233, 'reg_lambda': 0.3041726856810996}. Best is trial 2 with value: 0.8801113859417138.\n",
      "[I 2024-03-20 15:16:00,141] Trial 5 finished with value: 0.8513745696712938 and parameters: {'max_depth': 8, 'learning_rate': 0.2666486405855902, 'n_estimators': 210, 'min_child_weight': 70, 'gamma': 0.456736912958943, 'subsample': 0.2707233586626585, 'colsample_bytree': 0.8054537819963458, 'reg_alpha': 0.5758723403825851, 'reg_lambda': 0.5951712248052786}. Best is trial 2 with value: 0.8801113859417138.\n",
      "[I 2024-03-20 15:16:01,186] Trial 6 finished with value: 0.8677973093306202 and parameters: {'max_depth': 7, 'learning_rate': 0.3281222680892129, 'n_estimators': 308, 'min_child_weight': 41, 'gamma': 0.2019868984012024, 'subsample': 0.2625268621074607, 'colsample_bytree': 0.7215017066189521, 'reg_alpha': 0.7397668368377167, 'reg_lambda': 0.45985208229142477}. Best is trial 2 with value: 0.8801113859417138.\n",
      "[I 2024-03-20 15:16:01,483] Trial 7 finished with value: 0.7844583383574136 and parameters: {'max_depth': 3, 'learning_rate': 0.3540788637942505, 'n_estimators': 133, 'min_child_weight': 58, 'gamma': 0.5357314332345511, 'subsample': 0.33790579877404514, 'colsample_bytree': 0.11231219350582299, 'reg_alpha': 0.984312832142467, 'reg_lambda': 0.42717334435218957}. Best is trial 2 with value: 0.8801113859417138.\n",
      "[I 2024-03-20 15:16:03,099] Trial 8 finished with value: 0.7340646122133023 and parameters: {'max_depth': 6, 'learning_rate': 0.9913609017941049, 'n_estimators': 799, 'min_child_weight': 88, 'gamma': 0.07393589586623411, 'subsample': 0.26293016521912355, 'colsample_bytree': 0.02496182180841814, 'reg_alpha': 0.5102704358874321, 'reg_lambda': 0.11422328961853144}. Best is trial 2 with value: 0.8801113859417138.\n",
      "[I 2024-03-20 15:16:03,902] Trial 9 finished with value: 0.6880050517648405 and parameters: {'max_depth': 1, 'learning_rate': 0.7139213299919658, 'n_estimators': 570, 'min_child_weight': 100, 'gamma': 0.1649310081395535, 'subsample': 0.1361833701304085, 'colsample_bytree': 0.9066557164098163, 'reg_alpha': 0.12781043432134143, 'reg_lambda': 0.3088218576722193}. Best is trial 2 with value: 0.8801113859417138.\n",
      "[I 2024-03-20 15:16:08,532] Trial 10 finished with value: 0.9076107266757892 and parameters: {'max_depth': 10, 'learning_rate': 0.08759076297215967, 'n_estimators': 952, 'min_child_weight': 23, 'gamma': 0.41137768946472986, 'subsample': 0.9897705275017963, 'colsample_bytree': 0.625424444328042, 'reg_alpha': 0.2161834001633538, 'reg_lambda': 0.040941710907115694}. Best is trial 10 with value: 0.9076107266757892.\n",
      "[I 2024-03-20 15:16:15,381] Trial 11 finished with value: 0.9107239621159191 and parameters: {'max_depth': 10, 'learning_rate': 0.04154381891279385, 'n_estimators': 969, 'min_child_weight': 23, 'gamma': 0.43330996315897163, 'subsample': 0.9558786129290429, 'colsample_bytree': 0.6455193447710837, 'reg_alpha': 0.18060927166352908, 'reg_lambda': 0.026525479121290746}. Best is trial 11 with value: 0.9107239621159191.\n",
      "[I 2024-03-20 15:16:21,455] Trial 12 finished with value: 0.9086157285631804 and parameters: {'max_depth': 10, 'learning_rate': 0.032276910456844034, 'n_estimators': 985, 'min_child_weight': 14, 'gamma': 0.44852193254807343, 'subsample': 0.9747324682255752, 'colsample_bytree': 0.6175932008946146, 'reg_alpha': 0.19495888028927794, 'reg_lambda': 0.14857508457169744}. Best is trial 11 with value: 0.9107239621159191.\n",
      "[I 2024-03-20 15:16:29,353] Trial 13 finished with value: 0.8870335324192773 and parameters: {'max_depth': 10, 'learning_rate': 0.023115579528009304, 'n_estimators': 988, 'min_child_weight': 2, 'gamma': 0.6349250466192448, 'subsample': 0.8036303480968511, 'colsample_bytree': 0.2977060591873535, 'reg_alpha': 0.2781633798153143, 'reg_lambda': 0.2240809022497049}. Best is trial 11 with value: 0.9107239621159191.\n",
      "[I 2024-03-20 15:16:32,199] Trial 14 finished with value: 0.90348243472456 and parameters: {'max_depth': 8, 'learning_rate': 0.16007103174940013, 'n_estimators': 761, 'min_child_weight': 16, 'gamma': 0.7199887257064475, 'subsample': 0.656120984065351, 'colsample_bytree': 0.5923215473825374, 'reg_alpha': 0.38846303795562076, 'reg_lambda': 0.17283234632851568}. Best is trial 11 with value: 0.9107239621159191.\n",
      "[I 2024-03-20 15:16:34,373] Trial 15 finished with value: 0.8939283873235404 and parameters: {'max_depth': 5, 'learning_rate': 0.44448119395263314, 'n_estimators': 823, 'min_child_weight': 20, 'gamma': 0.35343987625334855, 'subsample': 0.8921689232128783, 'colsample_bytree': 0.6018612606724559, 'reg_alpha': 0.07363236559322295, 'reg_lambda': 0.6474826974694524}. Best is trial 11 with value: 0.9107239621159191.\n",
      "[I 2024-03-20 15:16:37,868] Trial 16 finished with value: 0.8976112795169877 and parameters: {'max_depth': 10, 'learning_rate': 0.18217601325212263, 'n_estimators': 880, 'min_child_weight': 36, 'gamma': 0.5997381846062144, 'subsample': 0.621917825542347, 'colsample_bytree': 0.3090499923382838, 'reg_alpha': 0.3785057043697583, 'reg_lambda': 0.9573417537349607}. Best is trial 11 with value: 0.9107239621159191.\n",
      "[I 2024-03-20 15:16:40,465] Trial 17 finished with value: 0.9082135580400333 and parameters: {'max_depth': 7, 'learning_rate': 0.017277610678724565, 'n_estimators': 711, 'min_child_weight': 12, 'gamma': 0.3354432827743138, 'subsample': 0.8844907603792194, 'colsample_bytree': 0.6915889622779384, 'reg_alpha': 0.016631243610416624, 'reg_lambda': 0.01410262330021933}. Best is trial 11 with value: 0.9107239621159191.\n",
      "[I 2024-03-20 15:16:42,017] Trial 18 finished with value: 0.9052589579286764 and parameters: {'max_depth': 9, 'learning_rate': 0.1971721827754173, 'n_estimators': 438, 'min_child_weight': 32, 'gamma': 0.7805129334469931, 'subsample': 0.9851337181328607, 'colsample_bytree': 0.5500048080859206, 'reg_alpha': 0.20340645032806498, 'reg_lambda': 0.1854890633439356}. Best is trial 11 with value: 0.9107239621159191.\n",
      "[I 2024-03-20 15:16:44,260] Trial 19 finished with value: 0.8862975209681092 and parameters: {'max_depth': 8, 'learning_rate': 0.472346790161796, 'n_estimators': 646, 'min_child_weight': 46, 'gamma': 0.9883070264932907, 'subsample': 0.6909952374010875, 'colsample_bytree': 0.7455088509213951, 'reg_alpha': 0.37264430826565154, 'reg_lambda': 0.11831039344771757}. Best is trial 11 with value: 0.9107239621159191.\n",
      "[I 2024-03-20 15:16:46,885] Trial 20 finished with value: 0.9090655469542334 and parameters: {'max_depth': 6, 'learning_rate': 0.10150171046686934, 'n_estimators': 896, 'min_child_weight': 12, 'gamma': 0.32286678360051413, 'subsample': 0.819149977138399, 'colsample_bytree': 0.43545392684955564, 'reg_alpha': 0.29637706339592035, 'reg_lambda': 0.5705463036147423}. Best is trial 11 with value: 0.9107239621159191.\n",
      "[I 2024-03-20 15:16:48,633] Trial 21 finished with value: 0.9098219201289057 and parameters: {'max_depth': 4, 'learning_rate': 0.10792212028475447, 'n_estimators': 904, 'min_child_weight': 10, 'gamma': 0.30009993146445546, 'subsample': 0.834921835817998, 'colsample_bytree': 0.45881093733817263, 'reg_alpha': 0.28241214595216585, 'reg_lambda': 0.5939531384861954}. Best is trial 11 with value: 0.9107239621159191.\n",
      "[I 2024-03-20 15:16:50,371] Trial 22 finished with value: 0.907620727755727 and parameters: {'max_depth': 4, 'learning_rate': 0.11036117863072904, 'n_estimators': 893, 'min_child_weight': 7, 'gamma': 0.30210497486544985, 'subsample': 0.8296586942273949, 'colsample_bytree': 0.4584315510085215, 'reg_alpha': 0.2858547824343152, 'reg_lambda': 0.611548056756019}. Best is trial 11 with value: 0.9107239621159191.\n",
      "[I 2024-03-20 15:16:52,062] Trial 23 finished with value: 0.8892325993032353 and parameters: {'max_depth': 4, 'learning_rate': 0.2814090268564365, 'n_estimators': 877, 'min_child_weight': 27, 'gamma': 0.3031739128594503, 'subsample': 0.5461566311444915, 'colsample_bytree': 0.33771701997061176, 'reg_alpha': 0.4365884289603278, 'reg_lambda': 0.7148348240182719}. Best is trial 11 with value: 0.9107239621159191.\n",
      "[I 2024-03-20 15:16:53,733] Trial 24 finished with value: 0.8927991525688311 and parameters: {'max_depth': 6, 'learning_rate': 0.1143994097725035, 'n_estimators': 689, 'min_child_weight': 9, 'gamma': 0.5362081534617055, 'subsample': 0.8613463755652678, 'colsample_bytree': 0.1861326841731636, 'reg_alpha': 0.3077480862195157, 'reg_lambda': 0.5397878400903443}. Best is trial 11 with value: 0.9107239621159191.\n",
      "[I 2024-03-20 15:16:55,639] Trial 25 finished with value: 0.9020960766521823 and parameters: {'max_depth': 4, 'learning_rate': 0.2167815217448002, 'n_estimators': 895, 'min_child_weight': 20, 'gamma': 0.36691066346230655, 'subsample': 0.7313719715245798, 'colsample_bytree': 0.5001637452375167, 'reg_alpha': 0.11438225410528167, 'reg_lambda': 0.7525208179678963}. Best is trial 11 with value: 0.9107239621159191.\n",
      "[I 2024-03-20 15:16:56,619] Trial 26 finished with value: 0.8142033670742237 and parameters: {'max_depth': 1, 'learning_rate': 0.3696719560373226, 'n_estimators': 775, 'min_child_weight': 8, 'gamma': 0.12483806548373108, 'subsample': 0.609128215942358, 'colsample_bytree': 0.2383895366313221, 'reg_alpha': 0.4990823801502089, 'reg_lambda': 0.5269211224410821}. Best is trial 11 with value: 0.9107239621159191.\n",
      "[I 2024-03-20 15:16:57,909] Trial 27 finished with value: 0.8953322283512172 and parameters: {'max_depth': 3, 'learning_rate': 0.09761153070462192, 'n_estimators': 467, 'min_child_weight': 29, 'gamma': 0.2420741776353863, 'subsample': 0.793058022276717, 'colsample_bytree': 0.38397982369375555, 'reg_alpha': 0.15996405486494145, 'reg_lambda': 0.7088271833172995}. Best is trial 11 with value: 0.9107239621159191.\n",
      "[I 2024-03-20 15:17:02,552] Trial 28 finished with value: 0.8872945354785265 and parameters: {'max_depth': 7, 'learning_rate': 0.0035545533885249225, 'n_estimators': 923, 'min_child_weight': 1, 'gamma': 0.4904205321621107, 'subsample': 0.4480166848050843, 'colsample_bytree': 0.5336166551135287, 'reg_alpha': 0.019709217172060423, 'reg_lambda': 0.8475436311387303}. Best is trial 11 with value: 0.9107239621159191.\n",
      "[I 2024-03-20 15:17:04,044] Trial 29 finished with value: 0.7133629940528339 and parameters: {'max_depth': 5, 'learning_rate': 0.25797539483143617, 'n_estimators': 848, 'min_child_weight': 18, 'gamma': 0.2649767041735396, 'subsample': 0.024996406583275177, 'colsample_bytree': 0.3742877274620274, 'reg_alpha': 0.2639777143843983, 'reg_lambda': 0.3613675375816019}. Best is trial 11 with value: 0.9107239621159191.\n",
      "[I 2024-03-20 15:17:05,815] Trial 30 finished with value: 0.8722315560473083 and parameters: {'max_depth': 6, 'learning_rate': 0.5666408720978022, 'n_estimators': 648, 'min_child_weight': 25, 'gamma': 0.3776708322475213, 'subsample': 0.7402740851592433, 'colsample_bytree': 0.4345133287019498, 'reg_alpha': 0.3264192036969363, 'reg_lambda': 0.5645686991923907}. Best is trial 11 with value: 0.9107239621159191.\n",
      "[I 2024-03-20 15:17:09,589] Trial 31 finished with value: 0.9098479375877886 and parameters: {'max_depth': 9, 'learning_rate': 0.0726876111856169, 'n_estimators': 979, 'min_child_weight': 14, 'gamma': 0.45723992478218267, 'subsample': 0.9304291435411255, 'colsample_bytree': 0.6498860364605843, 'reg_alpha': 0.2081656581007416, 'reg_lambda': 0.2710412390601077}. Best is trial 11 with value: 0.9107239621159191.\n",
      "[I 2024-03-20 15:17:14,091] Trial 32 finished with value: 0.9031758112655137 and parameters: {'max_depth': 9, 'learning_rate': 0.1391017541282136, 'n_estimators': 998, 'min_child_weight': 12, 'gamma': 0.5877737038617844, 'subsample': 0.9273714343033139, 'colsample_bytree': 0.6682194937775302, 'reg_alpha': 0.24030547370923855, 'reg_lambda': 0.26476545517494665}. Best is trial 11 with value: 0.9107239621159191.\n",
      "[I 2024-03-20 15:17:17,425] Trial 33 finished with value: 0.9053785116552502 and parameters: {'max_depth': 9, 'learning_rate': 0.0749784155751608, 'n_estimators': 942, 'min_child_weight': 55, 'gamma': 0.41988027220498636, 'subsample': 0.8363449678143576, 'colsample_bytree': 0.5021135082678976, 'reg_alpha': 0.08848154566543491, 'reg_lambda': 0.4808400558389519}. Best is trial 11 with value: 0.9107239621159191.\n",
      "[I 2024-03-20 15:17:18,660] Trial 34 finished with value: 0.8917969809572582 and parameters: {'max_depth': 2, 'learning_rate': 0.22107064385249922, 'n_estimators': 739, 'min_child_weight': 32, 'gamma': 0.6705499119233309, 'subsample': 0.9169764919966685, 'colsample_bytree': 0.7991884828742832, 'reg_alpha': 0.16260486867857998, 'reg_lambda': 0.3743642388355525}. Best is trial 11 with value: 0.9107239621159191.\n",
      "[I 2024-03-20 15:17:23,126] Trial 35 finished with value: 0.900788954812373 and parameters: {'max_depth': 8, 'learning_rate': 0.15372146568251283, 'n_estimators': 808, 'min_child_weight': 8, 'gamma': 0.513971724241489, 'subsample': 0.7330487754408946, 'colsample_bytree': 0.41295524312127624, 'reg_alpha': 0.47227740476422797, 'reg_lambda': 0.39833245927243255}. Best is trial 11 with value: 0.9107239621159191.\n",
      "[I 2024-03-20 15:17:25,268] Trial 36 finished with value: 0.9040706349980443 and parameters: {'max_depth': 4, 'learning_rate': 0.0663023469168514, 'n_estimators': 944, 'min_child_weight': 45, 'gamma': 0.2862713680001496, 'subsample': 0.9362759415615268, 'colsample_bytree': 0.9000034317789187, 'reg_alpha': 0.3266098049371007, 'reg_lambda': 0.07948943680546489}. Best is trial 11 with value: 0.9107239621159191.\n",
      "[I 2024-03-20 15:17:28,264] Trial 37 finished with value: 0.9010925967290848 and parameters: {'max_depth': 7, 'learning_rate': 0.28799197149143196, 'n_estimators': 848, 'min_child_weight': 17, 'gamma': 0.19143123481788704, 'subsample': 0.8586108776598333, 'colsample_bytree': 0.7426414046850732, 'reg_alpha': 0.6303501646623096, 'reg_lambda': 0.6526338144587466}. Best is trial 11 with value: 0.9107239621159191.\n",
      "[I 2024-03-20 15:17:33,717] Trial 38 finished with value: 0.850777128621987 and parameters: {'max_depth': 9, 'learning_rate': 0.42943934520763705, 'n_estimators': 930, 'min_child_weight': 4, 'gamma': 0.11845214938481702, 'subsample': 0.7833710670081235, 'colsample_bytree': 0.537583986259498, 'reg_alpha': 0.4257397019218166, 'reg_lambda': 0.3327299857698822}. Best is trial 11 with value: 0.9107239621159191.\n",
      "[I 2024-03-20 15:17:34,663] Trial 39 finished with value: 0.8661941190412199 and parameters: {'max_depth': 5, 'learning_rate': 0.04980917050381009, 'n_estimators': 383, 'min_child_weight': 64, 'gamma': 0.4702844062754612, 'subsample': 0.4242102576516864, 'colsample_bytree': 0.6569453487809772, 'reg_alpha': 0.16275148585753285, 'reg_lambda': 0.25183292953328945}. Best is trial 11 with value: 0.9107239621159191.\n",
      "[I 2024-03-20 15:17:35,530] Trial 40 finished with value: 0.8880275569380534 and parameters: {'max_depth': 2, 'learning_rate': 0.5645351061924322, 'n_estimators': 606, 'min_child_weight': 37, 'gamma': 0.3992266926060998, 'subsample': 0.9410073770781958, 'colsample_bytree': 0.4773270274884166, 'reg_alpha': 0.5496828899420847, 'reg_lambda': 0.4514047989252745}. Best is trial 11 with value: 0.9107239621159191.\n",
      "[I 2024-03-20 15:17:39,561] Trial 41 finished with value: 0.9108415390080115 and parameters: {'max_depth': 10, 'learning_rate': 0.051708666867407896, 'n_estimators': 984, 'min_child_weight': 14, 'gamma': 0.4245559180841083, 'subsample': 0.9601491804353184, 'colsample_bytree': 0.5631331691079295, 'reg_alpha': 0.2022384449737818, 'reg_lambda': 0.08625541107030027}. Best is trial 41 with value: 0.9108415390080115.\n",
      "[I 2024-03-20 15:17:43,380] Trial 42 finished with value: 0.9026555288758251 and parameters: {'max_depth': 10, 'learning_rate': 0.16183006222976742, 'n_estimators': 996, 'min_child_weight': 24, 'gamma': 0.5603488699883821, 'subsample': 0.9649302292002826, 'colsample_bytree': 0.5651289581111869, 'reg_alpha': 0.22579484359189372, 'reg_lambda': 0.11735158635242611}. Best is trial 41 with value: 0.9108415390080115.\n",
      "[I 2024-03-20 15:17:47,124] Trial 43 finished with value: 0.9096948802347041 and parameters: {'max_depth': 10, 'learning_rate': 0.06586184846589395, 'n_estimators': 841, 'min_child_weight': 12, 'gamma': 0.4409709328748089, 'subsample': 0.8871973347684463, 'colsample_bytree': 0.7038826959404009, 'reg_alpha': 0.07179343431578289, 'reg_lambda': 0.2054674007234834}. Best is trial 41 with value: 0.9108415390080115.\n",
      "[I 2024-03-20 15:17:50,973] Trial 44 finished with value: 0.9076251306901891 and parameters: {'max_depth': 10, 'learning_rate': 0.07334767765221778, 'n_estimators': 848, 'min_child_weight': 23, 'gamma': 0.44276709164097844, 'subsample': 0.9917947406335742, 'colsample_bytree': 0.8312167769767518, 'reg_alpha': 0.0744001770143212, 'reg_lambda': 0.07834541402970369}. Best is trial 41 with value: 0.9108415390080115.\n",
      "[I 2024-03-20 15:17:55,053] Trial 45 finished with value: 0.9081274098660718 and parameters: {'max_depth': 9, 'learning_rate': 0.009953886884259605, 'n_estimators': 946, 'min_child_weight': 14, 'gamma': 0.5025338085810862, 'subsample': 0.8759680228089546, 'colsample_bytree': 0.7028324151426608, 'reg_alpha': 0.8034894262580137, 'reg_lambda': 0.21402360553138394}. Best is trial 41 with value: 0.9108415390080115.\n",
      "[I 2024-03-20 15:18:00,040] Trial 46 finished with value: 0.8751259765446548 and parameters: {'max_depth': 10, 'learning_rate': 0.6949353891276107, 'n_estimators': 973, 'min_child_weight': 19, 'gamma': 0.41258986933124286, 'subsample': 0.9151968616839523, 'colsample_bytree': 0.7799234831358746, 'reg_alpha': 0.1362111519962762, 'reg_lambda': 0.06290146598058538}. Best is trial 41 with value: 0.9108415390080115.\n",
      "[I 2024-03-20 15:18:05,459] Trial 47 finished with value: 0.8825977904046723 and parameters: {'max_depth': 9, 'learning_rate': 0.23888857749108022, 'n_estimators': 797, 'min_child_weight': 6, 'gamma': 0.23934056798177525, 'subsample': 0.9958253881210224, 'colsample_bytree': 0.627597216657307, 'reg_alpha': 0.04428581653503827, 'reg_lambda': 0.15715664170846033}. Best is trial 41 with value: 0.9108415390080115.\n",
      "[I 2024-03-20 15:18:15,757] Trial 48 finished with value: 0.6636972180008479 and parameters: {'max_depth': 10, 'learning_rate': 0.8227757647660077, 'n_estimators': 910, 'min_child_weight': 1, 'gamma': 0.44653000294514844, 'subsample': 0.775440304543016, 'colsample_bytree': 0.5855916935284763, 'reg_alpha': 0.11606029856579099, 'reg_lambda': 0.010720480885233762}. Best is trial 41 with value: 0.9108415390080115.\n",
      "[I 2024-03-20 15:18:16,681] Trial 49 finished with value: 0.896528457059987 and parameters: {'max_depth': 8, 'learning_rate': 0.3231524095478826, 'n_estimators': 193, 'min_child_weight': 30, 'gamma': 0.38252874163059414, 'subsample': 0.8854421357329897, 'colsample_bytree': 0.8624614706833602, 'reg_alpha': 0.1841881468867238, 'reg_lambda': 0.2791381543529655}. Best is trial 41 with value: 0.9108415390080115.\n",
      "[I 2024-03-20 15:18:20,603] Trial 50 finished with value: 0.8627700723512248 and parameters: {'max_depth': 10, 'learning_rate': 0.9651503229188305, 'n_estimators': 846, 'min_child_weight': 81, 'gamma': 0.67714246578265, 'subsample': 0.9498248891780441, 'colsample_bytree': 0.9925982516540857, 'reg_alpha': 0.24569626225270635, 'reg_lambda': 0.20122433491894073}. Best is trial 41 with value: 0.9108415390080115.\n",
      "[I 2024-03-20 15:18:25,628] Trial 51 finished with value: 0.9032340499926063 and parameters: {'max_depth': 9, 'learning_rate': 0.13300128223753938, 'n_estimators': 960, 'min_child_weight': 11, 'gamma': 0.34664147210747664, 'subsample': 0.8351429484233593, 'colsample_bytree': 0.6553140603739107, 'reg_alpha': 0.3452636054465352, 'reg_lambda': 0.12073744558385964}. Best is trial 41 with value: 0.9108415390080115.\n",
      "[I 2024-03-20 15:18:29,846] Trial 52 finished with value: 0.9105843250106626 and parameters: {'max_depth': 10, 'learning_rate': 0.04889745458410634, 'n_estimators': 896, 'min_child_weight': 15, 'gamma': 0.32856575885349676, 'subsample': 0.8068648744571938, 'colsample_bytree': 0.723212093217125, 'reg_alpha': 0.20362178412489224, 'reg_lambda': 0.05290861928289468}. Best is trial 41 with value: 0.9108415390080115.\n",
      "[I 2024-03-20 15:18:34,560] Trial 53 finished with value: 0.9086304976993593 and parameters: {'max_depth': 10, 'learning_rate': 0.04484600137050451, 'n_estimators': 998, 'min_child_weight': 17, 'gamma': 0.4744202799787373, 'subsample': 0.901636525046421, 'colsample_bytree': 0.7612537350344203, 'reg_alpha': 0.05917609197776742, 'reg_lambda': 0.0415758734933627}. Best is trial 41 with value: 0.9108415390080115.\n",
      "[I 2024-03-20 15:18:38,602] Trial 54 finished with value: 0.9005227513985652 and parameters: {'max_depth': 10, 'learning_rate': 0.19402986149210372, 'n_estimators': 863, 'min_child_weight': 21, 'gamma': 0.5709095585511871, 'subsample': 0.6789960587791886, 'colsample_bytree': 0.7130717194689812, 'reg_alpha': 0.1929700084011659, 'reg_lambda': 0.09812283222330181}. Best is trial 41 with value: 0.9108415390080115.\n",
      "[I 2024-03-20 15:18:42,229] Trial 55 finished with value: 0.9114308471742392 and parameters: {'max_depth': 9, 'learning_rate': 0.042183499789794576, 'n_estimators': 910, 'min_child_weight': 15, 'gamma': 0.32919764482800196, 'subsample': 0.7675615446274686, 'colsample_bytree': 0.6316837691638995, 'reg_alpha': 0.10250797296246869, 'reg_lambda': 0.15029893405883926}. Best is trial 55 with value: 0.9114308471742392.\n",
      "[I 2024-03-20 15:18:49,219] Trial 56 finished with value: 0.8951495236557261 and parameters: {'max_depth': 8, 'learning_rate': 0.003700305125703289, 'n_estimators': 907, 'min_child_weight': 5, 'gamma': 0.3266251451574716, 'subsample': 0.7529499672374766, 'colsample_bytree': 0.6060378197950893, 'reg_alpha': 0.22227390079358292, 'reg_lambda': 0.14343045534641902}. Best is trial 55 with value: 0.9114308471742392.\n",
      "[I 2024-03-20 15:18:53,364] Trial 57 finished with value: 0.9083169075813903 and parameters: {'max_depth': 9, 'learning_rate': 0.11997174023243821, 'n_estimators': 958, 'min_child_weight': 16, 'gamma': 0.2698630811067916, 'subsample': 0.7033029181546744, 'colsample_bytree': 0.6415843888082304, 'reg_alpha': 0.11307836767062962, 'reg_lambda': 0.03294985282345724}. Best is trial 55 with value: 0.9114308471742392.\n",
      "[I 2024-03-20 15:18:56,043] Trial 58 finished with value: 0.8742428185461636 and parameters: {'max_depth': 9, 'learning_rate': 0.03948345824983444, 'n_estimators': 733, 'min_child_weight': 99, 'gamma': 0.18091765243221664, 'subsample': 0.6346516310554957, 'colsample_bytree': 0.583116111302265, 'reg_alpha': 0.27158465209276617, 'reg_lambda': 0.05963729805669936}. Best is trial 55 with value: 0.9114308471742392.\n",
      "[I 2024-03-20 15:18:59,252] Trial 59 finished with value: 0.9056075572371187 and parameters: {'max_depth': 8, 'learning_rate': 0.1681680019732144, 'n_estimators': 884, 'min_child_weight': 35, 'gamma': 0.02637289997486003, 'subsample': 0.8121704177139539, 'colsample_bytree': 0.5266277281643903, 'reg_alpha': 0.9730547639946967, 'reg_lambda': 0.16060887515276187}. Best is trial 55 with value: 0.9114308471742392.\n",
      "[I 2024-03-20 15:19:03,052] Trial 60 finished with value: 0.9062924805541028 and parameters: {'max_depth': 10, 'learning_rate': 0.10257621243435362, 'n_estimators': 785, 'min_child_weight': 26, 'gamma': 0.30680476741865037, 'subsample': 0.5224329352233218, 'colsample_bytree': 0.6716720259509175, 'reg_alpha': 0.15503056527768555, 'reg_lambda': 0.08301783920843116}. Best is trial 55 with value: 0.9114308471742392.\n",
      "[I 2024-03-20 15:19:07,687] Trial 61 finished with value: 0.9092301134244154 and parameters: {'max_depth': 10, 'learning_rate': 0.06940785681434475, 'n_estimators': 921, 'min_child_weight': 14, 'gamma': 0.42852507307744653, 'subsample': 0.9589990736089367, 'colsample_bytree': 0.7299220436550427, 'reg_alpha': 0.09551047882142091, 'reg_lambda': 0.24494766099401333}. Best is trial 55 with value: 0.9114308471742392.\n",
      "[I 2024-03-20 15:19:11,718] Trial 62 finished with value: 0.9116929244656632 and parameters: {'max_depth': 10, 'learning_rate': 0.03309666474140281, 'n_estimators': 827, 'min_child_weight': 11, 'gamma': 0.35150377281664097, 'subsample': 0.8542648155915072, 'colsample_bytree': 0.6939869571212982, 'reg_alpha': 0.21222821158608637, 'reg_lambda': 0.29728522434366483}. Best is trial 62 with value: 0.9116929244656632.\n",
      "[I 2024-03-20 15:19:16,109] Trial 63 finished with value: 0.9110803407140337 and parameters: {'max_depth': 9, 'learning_rate': 0.035978136113618636, 'n_estimators': 969, 'min_child_weight': 9, 'gamma': 0.36906255130451976, 'subsample': 0.8519350392257332, 'colsample_bytree': 0.6211387671605123, 'reg_alpha': 0.1975115601888158, 'reg_lambda': 0.3035884035591957}. Best is trial 62 with value: 0.9116929244656632.\n",
      "[I 2024-03-20 15:19:20,891] Trial 64 finished with value: 0.9085173229381074 and parameters: {'max_depth': 9, 'learning_rate': 0.02113676369380577, 'n_estimators': 968, 'min_child_weight': 21, 'gamma': 0.3675305919004861, 'subsample': 0.8574796420637457, 'colsample_bytree': 0.6223616524905585, 'reg_alpha': 0.20086808459486685, 'reg_lambda': 0.3363938681410131}. Best is trial 62 with value: 0.9116929244656632.\n",
      "[I 2024-03-20 15:19:24,360] Trial 65 finished with value: 0.9069690138745736 and parameters: {'max_depth': 9, 'learning_rate': 0.039329991307787526, 'n_estimators': 822, 'min_child_weight': 5, 'gamma': 0.5304875573439785, 'subsample': 0.21105496545926483, 'colsample_bytree': 0.6889970228875143, 'reg_alpha': 0.24755359516450864, 'reg_lambda': 0.41366903672886157}. Best is trial 62 with value: 0.9116929244656632.\n",
      "[I 2024-03-20 15:19:30,074] Trial 66 finished with value: 0.9055611448555372 and parameters: {'max_depth': 10, 'learning_rate': 0.1438339935970122, 'n_estimators': 975, 'min_child_weight': 8, 'gamma': 0.34576476108045184, 'subsample': 0.5858828861709326, 'colsample_bytree': 0.834017990198078, 'reg_alpha': 0.1338529159876719, 'reg_lambda': 0.31789447294881756}. Best is trial 62 with value: 0.9116929244656632.\n",
      "[I 2024-03-20 15:19:35,088] Trial 67 finished with value: 0.8921456404866562 and parameters: {'max_depth': 9, 'learning_rate': 0.004081287084050374, 'n_estimators': 878, 'min_child_weight': 14, 'gamma': 0.3983367754604975, 'subsample': 0.7780327312464623, 'colsample_bytree': 0.5632879835607414, 'reg_alpha': 0.17083153109475407, 'reg_lambda': 0.27875533272450714}. Best is trial 62 with value: 0.9116929244656632.\n",
      "[I 2024-03-20 15:19:37,119] Trial 68 finished with value: 0.9093069621665444 and parameters: {'max_depth': 8, 'learning_rate': 0.08986822939266619, 'n_estimators': 534, 'min_child_weight': 28, 'gamma': 0.23518162421920646, 'subsample': 0.9121423577157127, 'colsample_bytree': 0.7721066796710361, 'reg_alpha': 0.03687730314257237, 'reg_lambda': 0.17871970568877696}. Best is trial 62 with value: 0.9116929244656632.\n",
      "[I 2024-03-20 15:19:37,598] Trial 69 finished with value: 0.8883631231484708 and parameters: {'max_depth': 9, 'learning_rate': 0.183845961257384, 'n_estimators': 78, 'min_child_weight': 10, 'gamma': 0.4747916955538671, 'subsample': 0.35866017075451434, 'colsample_bytree': 0.6769809018882392, 'reg_alpha': 0.36007904888058145, 'reg_lambda': 0.13650609111161577}. Best is trial 62 with value: 0.9116929244656632.\n",
      "[I 2024-03-20 15:19:43,270] Trial 70 finished with value: 0.9060295927133655 and parameters: {'max_depth': 8, 'learning_rate': 0.05237009208322963, 'n_estimators': 914, 'min_child_weight': 3, 'gamma': 0.2759247623321725, 'subsample': 0.8537659373374373, 'colsample_bytree': 0.6276043884867455, 'reg_alpha': 0.3007791472939822, 'reg_lambda': 0.2985623165420688}. Best is trial 62 with value: 0.9116929244656632.\n",
      "[I 2024-03-20 15:19:47,691] Trial 71 finished with value: 0.9090507556797517 and parameters: {'max_depth': 10, 'learning_rate': 0.11963212792397605, 'n_estimators': 937, 'min_child_weight': 16, 'gamma': 0.31611567057664414, 'subsample': 0.837111826663478, 'colsample_bytree': 0.4722051835478459, 'reg_alpha': 0.19126948403631522, 'reg_lambda': 0.2351881427482433}. Best is trial 62 with value: 0.9116929244656632.\n",
      "[I 2024-03-20 15:19:50,973] Trial 72 finished with value: 0.9105695461085791 and parameters: {'max_depth': 7, 'learning_rate': 0.10307528943251558, 'n_estimators': 887, 'min_child_weight': 10, 'gamma': 0.3684641429516535, 'subsample': 0.8092800414970023, 'colsample_bytree': 0.5110386838408598, 'reg_alpha': 0.2651867918688035, 'reg_lambda': 0.4855348873608284}. Best is trial 62 with value: 0.9116929244656632.\n",
      "[I 2024-03-20 15:19:55,238] Trial 73 finished with value: 0.9108940607005609 and parameters: {'max_depth': 7, 'learning_rate': 0.0842781923108063, 'n_estimators': 971, 'min_child_weight': 14, 'gamma': 0.3756281203076987, 'subsample': 0.7643012257687125, 'colsample_bytree': 0.5869112347442706, 'reg_alpha': 0.21382179125517928, 'reg_lambda': 0.3795481271837885}. Best is trial 62 with value: 0.9116929244656632.\n",
      "[I 2024-03-20 15:19:58,627] Trial 74 finished with value: 0.9079385957206986 and parameters: {'max_depth': 7, 'learning_rate': 0.03018374571136158, 'n_estimators': 759, 'min_child_weight': 22, 'gamma': 0.3803564957589933, 'subsample': 0.713582750481862, 'colsample_bytree': 0.5064045198919058, 'reg_alpha': 0.25668291101624724, 'reg_lambda': 0.37168911440116154}. Best is trial 62 with value: 0.9116929244656632.\n",
      "[I 2024-03-20 15:20:01,877] Trial 75 finished with value: 0.9081946388817906 and parameters: {'max_depth': 7, 'learning_rate': 0.09258592751488715, 'n_estimators': 879, 'min_child_weight': 10, 'gamma': 0.34725691430828076, 'subsample': 0.7569043233736463, 'colsample_bytree': 0.5926521887253345, 'reg_alpha': 0.1447728654387474, 'reg_lambda': 0.48345411099852575}. Best is trial 62 with value: 0.9116929244656632.\n",
      "[I 2024-03-20 15:20:04,613] Trial 76 finished with value: 0.9104832410562895 and parameters: {'max_depth': 6, 'learning_rate': 0.0392613093473877, 'n_estimators': 932, 'min_child_weight': 19, 'gamma': 0.4097716175047389, 'subsample': 0.6614187592848837, 'colsample_bytree': 0.5612319491500715, 'reg_alpha': 0.22256914776251735, 'reg_lambda': 0.4085799527048293}. Best is trial 62 with value: 0.9116929244656632.\n",
      "[I 2024-03-20 15:20:10,956] Trial 77 finished with value: 0.899755057469352 and parameters: {'max_depth': 10, 'learning_rate': 0.13546074243149986, 'n_estimators': 961, 'min_child_weight': 6, 'gamma': 0.36958908613791996, 'subsample': 0.8051764517403838, 'colsample_bytree': 0.5307479179762191, 'reg_alpha': 0.32302869046819366, 'reg_lambda': 0.44182394693054583}. Best is trial 62 with value: 0.9116929244656632.\n",
      "[I 2024-03-20 15:20:14,005] Trial 78 finished with value: 0.9066926710104839 and parameters: {'max_depth': 7, 'learning_rate': 0.2101716141786942, 'n_estimators': 825, 'min_child_weight': 13, 'gamma': 0.2616804775294065, 'subsample': 0.8035802674975148, 'colsample_bytree': 0.7259683455214043, 'reg_alpha': 0.40155499843389875, 'reg_lambda': 0.038168574501461286}. Best is trial 62 with value: 0.9116929244656632.\n",
      "[I 2024-03-20 15:20:17,517] Trial 79 finished with value: 0.9122855065746297 and parameters: {'max_depth': 8, 'learning_rate': 0.08423741387459682, 'n_estimators': 873, 'min_child_weight': 9, 'gamma': 0.14325919604617487, 'subsample': 0.8760929152662723, 'colsample_bytree': 0.4926227137941944, 'reg_alpha': 0.10910578988748336, 'reg_lambda': 0.344177102284907}. Best is trial 79 with value: 0.9122855065746297.\n",
      "[I 2024-03-20 15:20:22,695] Trial 80 finished with value: 0.9029303046344579 and parameters: {'max_depth': 8, 'learning_rate': 0.07836130316875047, 'n_estimators': 862, 'min_child_weight': 3, 'gamma': 0.08354808343630116, 'subsample': 0.875658340770985, 'colsample_bytree': 0.6094050843258738, 'reg_alpha': 0.10207276925076855, 'reg_lambda': 0.36339681165330634}. Best is trial 79 with value: 0.9122855065746297.\n",
      "[I 2024-03-20 15:20:26,546] Trial 81 finished with value: 0.9055872106485895 and parameters: {'max_depth': 8, 'learning_rate': 0.10189567410830092, 'n_estimators': 897, 'min_child_weight': 8, 'gamma': 0.331455735254741, 'subsample': 0.7579114840569849, 'colsample_bytree': 0.43230716133193536, 'reg_alpha': 0.1778824757505355, 'reg_lambda': 0.3456520255446759}. Best is trial 79 with value: 0.9122855065746297.\n",
      "[I 2024-03-20 15:20:29,429] Trial 82 finished with value: 0.910794774999319 and parameters: {'max_depth': 6, 'learning_rate': 0.03560941282432332, 'n_estimators': 996, 'min_child_weight': 18, 'gamma': 0.20592733220227405, 'subsample': 0.9673381548950722, 'colsample_bytree': 0.5010812632046978, 'reg_alpha': 0.12984864491247805, 'reg_lambda': 0.3905709255509019}. Best is trial 79 with value: 0.9122855065746297.\n",
      "[I 2024-03-20 15:20:32,202] Trial 83 finished with value: 0.9109123134371755 and parameters: {'max_depth': 6, 'learning_rate': 0.05321375267959255, 'n_estimators': 990, 'min_child_weight': 18, 'gamma': 0.1288295210062885, 'subsample': 0.975516778436899, 'colsample_bytree': 0.4854425284055408, 'reg_alpha': 0.13423289737405467, 'reg_lambda': 0.30866488271354753}. Best is trial 79 with value: 0.9122855065746297.\n",
      "[I 2024-03-20 15:20:34,842] Trial 84 finished with value: 0.9065433499087803 and parameters: {'max_depth': 6, 'learning_rate': 0.024129597029009603, 'n_estimators': 985, 'min_child_weight': 25, 'gamma': 0.13587443143280656, 'subsample': 0.9618909761424681, 'colsample_bytree': 0.36549034618702814, 'reg_alpha': 0.013316854766436029, 'reg_lambda': 0.29917319454398134}. Best is trial 79 with value: 0.9122855065746297.\n",
      "[I 2024-03-20 15:20:37,613] Trial 85 finished with value: 0.8056844155547662 and parameters: {'max_depth': 6, 'learning_rate': 0.0022538353214851467, 'n_estimators': 949, 'min_child_weight': 41, 'gamma': 0.06143196954238017, 'subsample': 0.9744377648229218, 'colsample_bytree': 0.45841598685649265, 'reg_alpha': 0.12319609424569695, 'reg_lambda': 0.3879719106589202}. Best is trial 79 with value: 0.9122855065746297.\n",
      "[I 2024-03-20 15:20:40,050] Trial 86 finished with value: 0.8842265143677333 and parameters: {'max_depth': 5, 'learning_rate': 0.5236177145385101, 'n_estimators': 996, 'min_child_weight': 18, 'gamma': 0.1600417119583918, 'subsample': 0.9325220253595291, 'colsample_bytree': 0.48690098046507047, 'reg_alpha': 0.058387726450041234, 'reg_lambda': 0.4312403063311343}. Best is trial 79 with value: 0.9122855065746297.\n",
      "[I 2024-03-20 15:20:42,442] Trial 87 finished with value: 0.9093225085002683 and parameters: {'max_depth': 6, 'learning_rate': 0.05965847604012185, 'n_estimators': 924, 'min_child_weight': 22, 'gamma': 0.2115129392020339, 'subsample': 0.9929025768514935, 'colsample_bytree': 0.5513596525963261, 'reg_alpha': 0.0828957827145427, 'reg_lambda': 0.31443924183113026}. Best is trial 79 with value: 0.9122855065746297.\n",
      "[I 2024-03-20 15:20:44,624] Trial 88 finished with value: 0.9006323324912049 and parameters: {'max_depth': 5, 'learning_rate': 0.15215218880393278, 'n_estimators': 969, 'min_child_weight': 63, 'gamma': 0.07706059360819129, 'subsample': 0.9120062058297508, 'colsample_bytree': 0.5894934461340634, 'reg_alpha': 0.14120469785392578, 'reg_lambda': 0.38785888331802776}. Best is trial 79 with value: 0.9122855065746297.\n",
      "[I 2024-03-20 15:20:47,542] Trial 89 finished with value: 0.910705516777633 and parameters: {'max_depth': 7, 'learning_rate': 0.07990442966749163, 'n_estimators': 940, 'min_child_weight': 12, 'gamma': 0.10449796463386703, 'subsample': 0.9537034425915429, 'colsample_bytree': 0.44752588032280927, 'reg_alpha': 0.6801895653896852, 'reg_lambda': 0.3510910730695583}. Best is trial 79 with value: 0.9122855065746297.\n",
      "[I 2024-03-20 15:20:50,933] Trial 90 finished with value: 0.9065142829293963 and parameters: {'max_depth': 7, 'learning_rate': 0.026851679028333894, 'n_estimators': 997, 'min_child_weight': 31, 'gamma': 0.15141001066884502, 'subsample': 0.8965258340765146, 'colsample_bytree': 0.40498185573841444, 'reg_alpha': 0.038338067267881665, 'reg_lambda': 0.5212907943063322}. Best is trial 79 with value: 0.9122855065746297.\n",
      "[I 2024-03-20 15:20:53,841] Trial 91 finished with value: 0.9109529252452482 and parameters: {'max_depth': 7, 'learning_rate': 0.0840355329308271, 'n_estimators': 937, 'min_child_weight': 12, 'gamma': 0.10403045687296589, 'subsample': 0.9496846500942073, 'colsample_bytree': 0.4500541752855296, 'reg_alpha': 0.6317611232868675, 'reg_lambda': 0.33327651920461765}. Best is trial 79 with value: 0.9122855065746297.\n",
      "[I 2024-03-20 15:20:56,296] Trial 92 finished with value: 0.9057562439627646 and parameters: {'max_depth': 6, 'learning_rate': 0.11809006456505602, 'n_estimators': 974, 'min_child_weight': 18, 'gamma': 0.04643813532191542, 'subsample': 0.9996838713149102, 'colsample_bytree': 0.3244453555741069, 'reg_alpha': 0.6067973902518239, 'reg_lambda': 0.2914682825736223}. Best is trial 79 with value: 0.9122855065746297.\n",
      "[I 2024-03-20 15:20:58,831] Trial 93 finished with value: 0.9128828092790723 and parameters: {'max_depth': 6, 'learning_rate': 0.06299239706016307, 'n_estimators': 954, 'min_child_weight': 16, 'gamma': 0.09994661992443382, 'subsample': 0.9402701246764145, 'colsample_bytree': 0.4917166324016908, 'reg_alpha': 0.7841717132757329, 'reg_lambda': 0.32474041310731316}. Best is trial 93 with value: 0.9128828092790723.\n",
      "[I 2024-03-20 15:21:01,805] Trial 94 finished with value: 0.9111567651055577 and parameters: {'max_depth': 6, 'learning_rate': 0.06228928901250682, 'n_estimators': 945, 'min_child_weight': 7, 'gamma': 0.10966973315340924, 'subsample': 0.9369227172352762, 'colsample_bytree': 0.4213146307973006, 'reg_alpha': 0.8381743461735843, 'reg_lambda': 0.32303361974474865}. Best is trial 93 with value: 0.9128828092790723.\n",
      "[I 2024-03-20 15:21:05,066] Trial 95 finished with value: 0.9025427228709489 and parameters: {'max_depth': 7, 'learning_rate': 0.06028045854112067, 'n_estimators': 919, 'min_child_weight': 7, 'gamma': 0.10097590339959572, 'subsample': 0.8728198995182165, 'colsample_bytree': 0.27782817434946905, 'reg_alpha': 0.8187209271393551, 'reg_lambda': 0.2607552120617481}. Best is trial 93 with value: 0.9128828092790723.\n",
      "[I 2024-03-20 15:21:07,244] Trial 96 finished with value: 0.902983281491891 and parameters: {'max_depth': 5, 'learning_rate': 0.16905886001558684, 'n_estimators': 862, 'min_child_weight': 4, 'gamma': 0.17134368067762487, 'subsample': 0.9356366272601001, 'colsample_bytree': 0.389630385071283, 'reg_alpha': 0.7490373354701427, 'reg_lambda': 0.32913192676723013}. Best is trial 93 with value: 0.9128828092790723.\n",
      "[I 2024-03-20 15:21:10,043] Trial 97 finished with value: 0.8503565246048183 and parameters: {'max_depth': 6, 'learning_rate': 0.631871348157427, 'n_estimators': 946, 'min_child_weight': 12, 'gamma': 0.12892583838084756, 'subsample': 0.8971019559447557, 'colsample_bytree': 0.42195558650335413, 'reg_alpha': 0.8825414863565547, 'reg_lambda': 0.2261224710210667}. Best is trial 93 with value: 0.9128828092790723.\n",
      "[I 2024-03-20 15:21:13,093] Trial 98 finished with value: 0.9042880573173646 and parameters: {'max_depth': 7, 'learning_rate': 0.13078571038367592, 'n_estimators': 907, 'min_child_weight': 9, 'gamma': 0.023316987576698617, 'subsample': 0.9240200722698633, 'colsample_bytree': 0.4827119243570137, 'reg_alpha': 0.7933111322432544, 'reg_lambda': 0.19635647176186988}. Best is trial 93 with value: 0.9128828092790723.\n",
      "[I 2024-03-20 15:21:15,303] Trial 99 finished with value: 0.8502218834451973 and parameters: {'max_depth': 8, 'learning_rate': 0.38204431195007377, 'n_estimators': 334, 'min_child_weight': 1, 'gamma': 0.05441989746272813, 'subsample': 0.8462082974126073, 'colsample_bytree': 0.5317955500116025, 'reg_alpha': 0.8574211272954314, 'reg_lambda': 0.32207520168660053}. Best is trial 93 with value: 0.9128828092790723.\n"
     ]
    }
   ],
   "source": [
    "#import necessary libraries\n",
    "import optuna\n",
    "from sklearn.model_selection import cross_val_score\n",
    "from xgboost import XGBRegressor\n",
    "\n",
    "\n",
    "\n",
    "#define objective function for hyperparameter optimization using optuna\n",
    "def objective(trial):\n",
    "\n",
    "  #define hyperparameters to optimize for\n",
    "  params = {\n",
    "      'max_depth': trial.suggest_int('max_depth', 1, 10),\n",
    "      'learning_rate': trial.suggest_float('learning_rate', 0.001, 1.0),\n",
    "      'n_estimators': trial.suggest_int('n_estimators', 50, 1000),\n",
    "      'min_child_weight': trial.suggest_int('min_child_weight', 1, 100),\n",
    "      'gamma': trial.suggest_float('gamma', 0.01, 1.0),\n",
    "      'subsample': trial.suggest_float('subsample', 0.01, 1.0),\n",
    "      'colsample_bytree': trial.suggest_float('colsample_bytree', 0.01, 1.0),\n",
    "      'reg_alpha': trial.suggest_float('reg_alpha', 0.01, 1.0),\n",
    "      'reg_lambda': trial.suggest_float('reg_lambda', 0.01, 1.0),\n",
    "  }\n",
    "\n",
    "  model = XGBRegressor(**params, random_state=42)\n",
    "    \n",
    "  #evaluate model using cross-validation\n",
    "  score = cross_val_score(model, X_trained, y_trained, cv=5).mean()\n",
    "    \n",
    "  return score\n",
    "\n",
    "#run hyperparameter optimization with optuna\n",
    "study = optuna.create_study(direction='maximize')\n",
    "study.optimize(objective, n_trials=100)"
   ]
  },
  {
   "cell_type": "code",
   "execution_count": 41,
   "metadata": {
    "pycharm": {
     "name": "#%%\n"
    }
   },
   "outputs": [
    {
     "name": "stdout",
     "output_type": "stream",
     "text": [
      "Best hyperparameters: {'max_depth': 6, 'learning_rate': 0.06299239706016307, 'n_estimators': 954, 'min_child_weight': 16, 'gamma': 0.09994661992443382, 'subsample': 0.9402701246764145, 'colsample_bytree': 0.4917166324016908, 'reg_alpha': 0.7841717132757329, 'reg_lambda': 0.32474041310731316}\n"
     ]
    }
   ],
   "source": [
    "#get best hyperparameters\n",
    "best_params = study.best_params\n",
    "print(f'Best hyperparameters: {best_params}')"
   ]
  },
  {
   "cell_type": "code",
   "execution_count": 42,
   "metadata": {
    "pycharm": {
     "name": "#%%\n"
    }
   },
   "outputs": [],
   "source": [
    "model = XGBRegressor(**best_params, random_state=42)"
   ]
  },
  {
   "cell_type": "code",
   "execution_count": 43,
   "metadata": {
    "pycharm": {
     "name": "#%%\n"
    }
   },
   "outputs": [],
   "source": [
    "#fit and predict using model\n",
    "model.fit(X_trained, y_trained)\n",
    "predictions = model.predict(X_val)\n"
   ]
  },
  {
   "cell_type": "code",
   "execution_count": 56,
   "outputs": [],
   "source": [
    "import xgboost as xgb\n",
    "model.save_model(\"model1.json\")"
   ],
   "metadata": {
    "collapsed": false,
    "pycharm": {
     "name": "#%%\n"
    }
   }
  },
  {
   "cell_type": "code",
   "execution_count": 54,
   "outputs": [
    {
     "name": "stdout",
     "output_type": "stream",
     "text": [
      "MAE: 2686892.3056778167\n",
      "R^2: 0.8814571966393812\n",
      "MAPE: 0.15530908450675326\n",
      "RMSE: 6321837.372706397\n"
     ]
    }
   ],
   "source": [
    "model2 = xgb.XGBRegressor()\n",
    "model2.load_model(\"model.json\")\n",
    "predictions = model2.predict(X_val)\n",
    "from sklearn.metrics import r2_score, mean_absolute_percentage_error, mean_squared_error, mean_absolute_error\n",
    "print('MAE:', mean_absolute_error(y_val, predictions))\n",
    "print('R^2:', r2_score(y_val, predictions))\n",
    "print('MAPE:', mean_absolute_percentage_error(y_val, predictions))\n",
    "print('RMSE:', (mean_squared_error(y_val, predictions)) ** (1/2))"
   ],
   "metadata": {
    "collapsed": false,
    "pycharm": {
     "name": "#%%\n"
    }
   }
  },
  {
   "cell_type": "code",
   "execution_count": 55,
   "outputs": [
    {
     "data": {
      "text/plain": "      total_area  region_msk   latitude  longitude  floors_number  build_date  \\\n1418      128.50           0  60.011558  30.328067             11      1999.0   \n1206       65.70           0  59.916234  30.487374              9      1971.0   \n2079       72.90           0  56.849955  60.612492             31      2025.0   \n4063       36.90           0  55.753914  49.204555              9      1974.0   \n5261       50.80           0  56.232644  43.952653              5      2025.0   \n...          ...         ...        ...        ...            ...         ...   \n110        86.80           1  55.734334  37.525324             34      2025.0   \n5938       94.80           0  56.310719  44.003461              9      2025.0   \n3945       46.95           0  55.068875  82.915132             20      2025.0   \n2441       26.60           0  56.776187  60.665259             16      2025.0   \n5271       52.60           0  56.290245  43.946841              9      1981.0   \n\n      floor  rooms_count  complitation_year  house_material_monolithBrick  \\\n1418      3          3.0             2023.0                             0   \n1206      3          3.0             2023.0                             0   \n2079     16          3.0             2025.0                             1   \n4063      6          1.0             2023.0                             0   \n5261      5          2.0             2023.0                             0   \n...     ...          ...                ...                           ...   \n110      10          3.0             2023.0                             0   \n5938      2          3.0             2026.0                             1   \n3945      3          2.0             2026.0                             1   \n2441      9          1.0             2023.0                             1   \n5271      8          2.0             2023.0                             0   \n\n      house_material_brick  kitchen_area  is_auction  house_material_monolith  \\\n1418                     1     13.000000           1                        0   \n1206                     0     10.500000           1                        0   \n2079                     0     16.700000           0                        0   \n4063                     0      7.000000           1                        0   \n5261                     0      6.000000           0                        0   \n...                    ...           ...         ...                      ...   \n110                      0     13.311845           0                        1   \n5938                     0     30.700000           0                        0   \n3945                     0      7.300000           0                        0   \n2441                     0     13.311845           0                        0   \n5271                     0      9.000000           0                        0   \n\n      is_apartments  \n1418            0.0  \n1206            0.0  \n2079            0.0  \n4063            0.0  \n5261            0.0  \n...             ...  \n110             1.0  \n5938            0.0  \n3945            0.0  \n2441            0.0  \n5271            0.0  \n\n[1136 rows x 15 columns]",
      "text/html": "<div>\n<style scoped>\n    .dataframe tbody tr th:only-of-type {\n        vertical-align: middle;\n    }\n\n    .dataframe tbody tr th {\n        vertical-align: top;\n    }\n\n    .dataframe thead th {\n        text-align: right;\n    }\n</style>\n<table border=\"1\" class=\"dataframe\">\n  <thead>\n    <tr style=\"text-align: right;\">\n      <th></th>\n      <th>total_area</th>\n      <th>region_msk</th>\n      <th>latitude</th>\n      <th>longitude</th>\n      <th>floors_number</th>\n      <th>build_date</th>\n      <th>floor</th>\n      <th>rooms_count</th>\n      <th>complitation_year</th>\n      <th>house_material_monolithBrick</th>\n      <th>house_material_brick</th>\n      <th>kitchen_area</th>\n      <th>is_auction</th>\n      <th>house_material_monolith</th>\n      <th>is_apartments</th>\n    </tr>\n  </thead>\n  <tbody>\n    <tr>\n      <th>1418</th>\n      <td>128.50</td>\n      <td>0</td>\n      <td>60.011558</td>\n      <td>30.328067</td>\n      <td>11</td>\n      <td>1999.0</td>\n      <td>3</td>\n      <td>3.0</td>\n      <td>2023.0</td>\n      <td>0</td>\n      <td>1</td>\n      <td>13.000000</td>\n      <td>1</td>\n      <td>0</td>\n      <td>0.0</td>\n    </tr>\n    <tr>\n      <th>1206</th>\n      <td>65.70</td>\n      <td>0</td>\n      <td>59.916234</td>\n      <td>30.487374</td>\n      <td>9</td>\n      <td>1971.0</td>\n      <td>3</td>\n      <td>3.0</td>\n      <td>2023.0</td>\n      <td>0</td>\n      <td>0</td>\n      <td>10.500000</td>\n      <td>1</td>\n      <td>0</td>\n      <td>0.0</td>\n    </tr>\n    <tr>\n      <th>2079</th>\n      <td>72.90</td>\n      <td>0</td>\n      <td>56.849955</td>\n      <td>60.612492</td>\n      <td>31</td>\n      <td>2025.0</td>\n      <td>16</td>\n      <td>3.0</td>\n      <td>2025.0</td>\n      <td>1</td>\n      <td>0</td>\n      <td>16.700000</td>\n      <td>0</td>\n      <td>0</td>\n      <td>0.0</td>\n    </tr>\n    <tr>\n      <th>4063</th>\n      <td>36.90</td>\n      <td>0</td>\n      <td>55.753914</td>\n      <td>49.204555</td>\n      <td>9</td>\n      <td>1974.0</td>\n      <td>6</td>\n      <td>1.0</td>\n      <td>2023.0</td>\n      <td>0</td>\n      <td>0</td>\n      <td>7.000000</td>\n      <td>1</td>\n      <td>0</td>\n      <td>0.0</td>\n    </tr>\n    <tr>\n      <th>5261</th>\n      <td>50.80</td>\n      <td>0</td>\n      <td>56.232644</td>\n      <td>43.952653</td>\n      <td>5</td>\n      <td>2025.0</td>\n      <td>5</td>\n      <td>2.0</td>\n      <td>2023.0</td>\n      <td>0</td>\n      <td>0</td>\n      <td>6.000000</td>\n      <td>0</td>\n      <td>0</td>\n      <td>0.0</td>\n    </tr>\n    <tr>\n      <th>...</th>\n      <td>...</td>\n      <td>...</td>\n      <td>...</td>\n      <td>...</td>\n      <td>...</td>\n      <td>...</td>\n      <td>...</td>\n      <td>...</td>\n      <td>...</td>\n      <td>...</td>\n      <td>...</td>\n      <td>...</td>\n      <td>...</td>\n      <td>...</td>\n      <td>...</td>\n    </tr>\n    <tr>\n      <th>110</th>\n      <td>86.80</td>\n      <td>1</td>\n      <td>55.734334</td>\n      <td>37.525324</td>\n      <td>34</td>\n      <td>2025.0</td>\n      <td>10</td>\n      <td>3.0</td>\n      <td>2023.0</td>\n      <td>0</td>\n      <td>0</td>\n      <td>13.311845</td>\n      <td>0</td>\n      <td>1</td>\n      <td>1.0</td>\n    </tr>\n    <tr>\n      <th>5938</th>\n      <td>94.80</td>\n      <td>0</td>\n      <td>56.310719</td>\n      <td>44.003461</td>\n      <td>9</td>\n      <td>2025.0</td>\n      <td>2</td>\n      <td>3.0</td>\n      <td>2026.0</td>\n      <td>1</td>\n      <td>0</td>\n      <td>30.700000</td>\n      <td>0</td>\n      <td>0</td>\n      <td>0.0</td>\n    </tr>\n    <tr>\n      <th>3945</th>\n      <td>46.95</td>\n      <td>0</td>\n      <td>55.068875</td>\n      <td>82.915132</td>\n      <td>20</td>\n      <td>2025.0</td>\n      <td>3</td>\n      <td>2.0</td>\n      <td>2026.0</td>\n      <td>1</td>\n      <td>0</td>\n      <td>7.300000</td>\n      <td>0</td>\n      <td>0</td>\n      <td>0.0</td>\n    </tr>\n    <tr>\n      <th>2441</th>\n      <td>26.60</td>\n      <td>0</td>\n      <td>56.776187</td>\n      <td>60.665259</td>\n      <td>16</td>\n      <td>2025.0</td>\n      <td>9</td>\n      <td>1.0</td>\n      <td>2023.0</td>\n      <td>1</td>\n      <td>0</td>\n      <td>13.311845</td>\n      <td>0</td>\n      <td>0</td>\n      <td>0.0</td>\n    </tr>\n    <tr>\n      <th>5271</th>\n      <td>52.60</td>\n      <td>0</td>\n      <td>56.290245</td>\n      <td>43.946841</td>\n      <td>9</td>\n      <td>1981.0</td>\n      <td>8</td>\n      <td>2.0</td>\n      <td>2023.0</td>\n      <td>0</td>\n      <td>0</td>\n      <td>9.000000</td>\n      <td>0</td>\n      <td>0</td>\n      <td>0.0</td>\n    </tr>\n  </tbody>\n</table>\n<p>1136 rows × 15 columns</p>\n</div>"
     },
     "execution_count": 55,
     "metadata": {},
     "output_type": "execute_result"
    }
   ],
   "source": [
    "X_val"
   ],
   "metadata": {
    "collapsed": false,
    "pycharm": {
     "name": "#%%\n"
    }
   }
  },
  {
   "cell_type": "code",
   "execution_count": 52,
   "outputs": [],
   "source": [
    "model2 = xgb.XGBRegressor()\n",
    "model2.load_model(\"model.json\")"
   ],
   "metadata": {
    "collapsed": false,
    "pycharm": {
     "name": "#%%\n"
    }
   }
  },
  {
   "cell_type": "code",
   "execution_count": 51,
   "outputs": [
    {
     "data": {
      "text/plain": "      total_area  region_msk   latitude  longitude  floors_number  build_date  \\\n1358       23.66           0  60.030357  30.202671             14      2022.0   \n968        93.00           1  55.718060  37.496650             14      2021.0   \n4418       42.70           0  55.824739  49.155408             18      2013.0   \n892        48.00           1  55.794173  37.542213             37      2021.0   \n4941       83.69           0  55.780573  49.106999              9      2025.0   \n...          ...         ...        ...        ...            ...         ...   \n4071       63.35           0  55.815119  49.136229             18      2016.0   \n5491       49.00           0  56.262945  43.975145             18      2025.0   \n5526       40.00           0  56.286767  43.988200             18      2025.0   \n5690       68.64           0  56.296689  43.949214             24      2025.0   \n1127       21.39           0  59.932097  30.434237             15      2025.0   \n\n      floor  rooms_count  complitation_year  house_material_monolithBrick  \\\n1358     12          1.0             2023.0                             1   \n968      12          4.0             2023.0                             0   \n4418     17          1.0             2023.0                             0   \n892      37          1.0             2023.0                             0   \n4941      7          3.0             2024.0                             1   \n...     ...          ...                ...                           ...   \n4071      7          2.0             2023.0                             0   \n5491      7          1.0             2025.0                             1   \n5526     17          1.0             2023.0                             0   \n5690     22          2.0             2026.0                             1   \n1127     11          1.0             2024.0                             1   \n\n      house_material_brick  kitchen_area  is_auction  house_material_monolith  \\\n1358                     0     13.311845           1                        0   \n968                      0     14.000000           1                        1   \n4418                     1     11.900000           0                        0   \n892                      0      6.000000           1                        1   \n4941                     0     20.700000           0                        0   \n...                    ...           ...         ...                      ...   \n4071                     1     13.000000           1                        0   \n5491                     0     13.311845           0                        0   \n5526                     0     11.400000           0                        1   \n5690                     0     18.600000           0                        0   \n1127                     0     13.311845           0                        0   \n\n      is_apartments  \n1358            0.0  \n968             0.0  \n4418            0.0  \n892             0.0  \n4941            0.0  \n...             ...  \n4071            0.0  \n5491            0.0  \n5526            0.0  \n5690            0.0  \n1127            1.0  \n\n[4542 rows x 15 columns]",
      "text/html": "<div>\n<style scoped>\n    .dataframe tbody tr th:only-of-type {\n        vertical-align: middle;\n    }\n\n    .dataframe tbody tr th {\n        vertical-align: top;\n    }\n\n    .dataframe thead th {\n        text-align: right;\n    }\n</style>\n<table border=\"1\" class=\"dataframe\">\n  <thead>\n    <tr style=\"text-align: right;\">\n      <th></th>\n      <th>total_area</th>\n      <th>region_msk</th>\n      <th>latitude</th>\n      <th>longitude</th>\n      <th>floors_number</th>\n      <th>build_date</th>\n      <th>floor</th>\n      <th>rooms_count</th>\n      <th>complitation_year</th>\n      <th>house_material_monolithBrick</th>\n      <th>house_material_brick</th>\n      <th>kitchen_area</th>\n      <th>is_auction</th>\n      <th>house_material_monolith</th>\n      <th>is_apartments</th>\n    </tr>\n  </thead>\n  <tbody>\n    <tr>\n      <th>1358</th>\n      <td>23.66</td>\n      <td>0</td>\n      <td>60.030357</td>\n      <td>30.202671</td>\n      <td>14</td>\n      <td>2022.0</td>\n      <td>12</td>\n      <td>1.0</td>\n      <td>2023.0</td>\n      <td>1</td>\n      <td>0</td>\n      <td>13.311845</td>\n      <td>1</td>\n      <td>0</td>\n      <td>0.0</td>\n    </tr>\n    <tr>\n      <th>968</th>\n      <td>93.00</td>\n      <td>1</td>\n      <td>55.718060</td>\n      <td>37.496650</td>\n      <td>14</td>\n      <td>2021.0</td>\n      <td>12</td>\n      <td>4.0</td>\n      <td>2023.0</td>\n      <td>0</td>\n      <td>0</td>\n      <td>14.000000</td>\n      <td>1</td>\n      <td>1</td>\n      <td>0.0</td>\n    </tr>\n    <tr>\n      <th>4418</th>\n      <td>42.70</td>\n      <td>0</td>\n      <td>55.824739</td>\n      <td>49.155408</td>\n      <td>18</td>\n      <td>2013.0</td>\n      <td>17</td>\n      <td>1.0</td>\n      <td>2023.0</td>\n      <td>0</td>\n      <td>1</td>\n      <td>11.900000</td>\n      <td>0</td>\n      <td>0</td>\n      <td>0.0</td>\n    </tr>\n    <tr>\n      <th>892</th>\n      <td>48.00</td>\n      <td>1</td>\n      <td>55.794173</td>\n      <td>37.542213</td>\n      <td>37</td>\n      <td>2021.0</td>\n      <td>37</td>\n      <td>1.0</td>\n      <td>2023.0</td>\n      <td>0</td>\n      <td>0</td>\n      <td>6.000000</td>\n      <td>1</td>\n      <td>1</td>\n      <td>0.0</td>\n    </tr>\n    <tr>\n      <th>4941</th>\n      <td>83.69</td>\n      <td>0</td>\n      <td>55.780573</td>\n      <td>49.106999</td>\n      <td>9</td>\n      <td>2025.0</td>\n      <td>7</td>\n      <td>3.0</td>\n      <td>2024.0</td>\n      <td>1</td>\n      <td>0</td>\n      <td>20.700000</td>\n      <td>0</td>\n      <td>0</td>\n      <td>0.0</td>\n    </tr>\n    <tr>\n      <th>...</th>\n      <td>...</td>\n      <td>...</td>\n      <td>...</td>\n      <td>...</td>\n      <td>...</td>\n      <td>...</td>\n      <td>...</td>\n      <td>...</td>\n      <td>...</td>\n      <td>...</td>\n      <td>...</td>\n      <td>...</td>\n      <td>...</td>\n      <td>...</td>\n      <td>...</td>\n    </tr>\n    <tr>\n      <th>4071</th>\n      <td>63.35</td>\n      <td>0</td>\n      <td>55.815119</td>\n      <td>49.136229</td>\n      <td>18</td>\n      <td>2016.0</td>\n      <td>7</td>\n      <td>2.0</td>\n      <td>2023.0</td>\n      <td>0</td>\n      <td>1</td>\n      <td>13.000000</td>\n      <td>1</td>\n      <td>0</td>\n      <td>0.0</td>\n    </tr>\n    <tr>\n      <th>5491</th>\n      <td>49.00</td>\n      <td>0</td>\n      <td>56.262945</td>\n      <td>43.975145</td>\n      <td>18</td>\n      <td>2025.0</td>\n      <td>7</td>\n      <td>1.0</td>\n      <td>2025.0</td>\n      <td>1</td>\n      <td>0</td>\n      <td>13.311845</td>\n      <td>0</td>\n      <td>0</td>\n      <td>0.0</td>\n    </tr>\n    <tr>\n      <th>5526</th>\n      <td>40.00</td>\n      <td>0</td>\n      <td>56.286767</td>\n      <td>43.988200</td>\n      <td>18</td>\n      <td>2025.0</td>\n      <td>17</td>\n      <td>1.0</td>\n      <td>2023.0</td>\n      <td>0</td>\n      <td>0</td>\n      <td>11.400000</td>\n      <td>0</td>\n      <td>1</td>\n      <td>0.0</td>\n    </tr>\n    <tr>\n      <th>5690</th>\n      <td>68.64</td>\n      <td>0</td>\n      <td>56.296689</td>\n      <td>43.949214</td>\n      <td>24</td>\n      <td>2025.0</td>\n      <td>22</td>\n      <td>2.0</td>\n      <td>2026.0</td>\n      <td>1</td>\n      <td>0</td>\n      <td>18.600000</td>\n      <td>0</td>\n      <td>0</td>\n      <td>0.0</td>\n    </tr>\n    <tr>\n      <th>1127</th>\n      <td>21.39</td>\n      <td>0</td>\n      <td>59.932097</td>\n      <td>30.434237</td>\n      <td>15</td>\n      <td>2025.0</td>\n      <td>11</td>\n      <td>1.0</td>\n      <td>2024.0</td>\n      <td>1</td>\n      <td>0</td>\n      <td>13.311845</td>\n      <td>0</td>\n      <td>0</td>\n      <td>1.0</td>\n    </tr>\n  </tbody>\n</table>\n<p>4542 rows × 15 columns</p>\n</div>"
     },
     "execution_count": 51,
     "metadata": {},
     "output_type": "execute_result"
    }
   ],
   "source": [
    "X_trained"
   ],
   "metadata": {
    "collapsed": false,
    "pycharm": {
     "name": "#%%\n"
    }
   }
  },
  {
   "cell_type": "code",
   "execution_count": 49,
   "outputs": [
    {
     "data": {
      "text/plain": "Index(['total_area', 'region_msk', 'latitude', 'longitude', 'floors_number',\n       'build_date', 'floor', 'rooms_count', 'complitation_year',\n       'house_material_monolithBrick', 'house_material_brick', 'kitchen_area',\n       'is_auction', 'house_material_monolith', 'is_apartments'],\n      dtype='object')"
     },
     "execution_count": 49,
     "metadata": {},
     "output_type": "execute_result"
    }
   ],
   "source": [
    "X_val.columns"
   ],
   "metadata": {
    "collapsed": false,
    "pycharm": {
     "name": "#%%\n"
    }
   }
  },
  {
   "cell_type": "code",
   "execution_count": 50,
   "outputs": [
    {
     "data": {
      "text/plain": "      total_area  region_msk   latitude  longitude  floors_number  build_date  \\\n1418      128.50           0  60.011558  30.328067             11      1999.0   \n1206       65.70           0  59.916234  30.487374              9      1971.0   \n2079       72.90           0  56.849955  60.612492             31      2025.0   \n4063       36.90           0  55.753914  49.204555              9      1974.0   \n5261       50.80           0  56.232644  43.952653              5      2025.0   \n...          ...         ...        ...        ...            ...         ...   \n110        86.80           1  55.734334  37.525324             34      2025.0   \n5938       94.80           0  56.310719  44.003461              9      2025.0   \n3945       46.95           0  55.068875  82.915132             20      2025.0   \n2441       26.60           0  56.776187  60.665259             16      2025.0   \n5271       52.60           0  56.290245  43.946841              9      1981.0   \n\n      floor  rooms_count  complitation_year  house_material_monolithBrick  \\\n1418      3          3.0             2023.0                             0   \n1206      3          3.0             2023.0                             0   \n2079     16          3.0             2025.0                             1   \n4063      6          1.0             2023.0                             0   \n5261      5          2.0             2023.0                             0   \n...     ...          ...                ...                           ...   \n110      10          3.0             2023.0                             0   \n5938      2          3.0             2026.0                             1   \n3945      3          2.0             2026.0                             1   \n2441      9          1.0             2023.0                             1   \n5271      8          2.0             2023.0                             0   \n\n      house_material_brick  kitchen_area  is_auction  house_material_monolith  \\\n1418                     1     13.000000           1                        0   \n1206                     0     10.500000           1                        0   \n2079                     0     16.700000           0                        0   \n4063                     0      7.000000           1                        0   \n5261                     0      6.000000           0                        0   \n...                    ...           ...         ...                      ...   \n110                      0     13.311845           0                        1   \n5938                     0     30.700000           0                        0   \n3945                     0      7.300000           0                        0   \n2441                     0     13.311845           0                        0   \n5271                     0      9.000000           0                        0   \n\n      is_apartments  \n1418            0.0  \n1206            0.0  \n2079            0.0  \n4063            0.0  \n5261            0.0  \n...             ...  \n110             1.0  \n5938            0.0  \n3945            0.0  \n2441            0.0  \n5271            0.0  \n\n[1136 rows x 15 columns]",
      "text/html": "<div>\n<style scoped>\n    .dataframe tbody tr th:only-of-type {\n        vertical-align: middle;\n    }\n\n    .dataframe tbody tr th {\n        vertical-align: top;\n    }\n\n    .dataframe thead th {\n        text-align: right;\n    }\n</style>\n<table border=\"1\" class=\"dataframe\">\n  <thead>\n    <tr style=\"text-align: right;\">\n      <th></th>\n      <th>total_area</th>\n      <th>region_msk</th>\n      <th>latitude</th>\n      <th>longitude</th>\n      <th>floors_number</th>\n      <th>build_date</th>\n      <th>floor</th>\n      <th>rooms_count</th>\n      <th>complitation_year</th>\n      <th>house_material_monolithBrick</th>\n      <th>house_material_brick</th>\n      <th>kitchen_area</th>\n      <th>is_auction</th>\n      <th>house_material_monolith</th>\n      <th>is_apartments</th>\n    </tr>\n  </thead>\n  <tbody>\n    <tr>\n      <th>1418</th>\n      <td>128.50</td>\n      <td>0</td>\n      <td>60.011558</td>\n      <td>30.328067</td>\n      <td>11</td>\n      <td>1999.0</td>\n      <td>3</td>\n      <td>3.0</td>\n      <td>2023.0</td>\n      <td>0</td>\n      <td>1</td>\n      <td>13.000000</td>\n      <td>1</td>\n      <td>0</td>\n      <td>0.0</td>\n    </tr>\n    <tr>\n      <th>1206</th>\n      <td>65.70</td>\n      <td>0</td>\n      <td>59.916234</td>\n      <td>30.487374</td>\n      <td>9</td>\n      <td>1971.0</td>\n      <td>3</td>\n      <td>3.0</td>\n      <td>2023.0</td>\n      <td>0</td>\n      <td>0</td>\n      <td>10.500000</td>\n      <td>1</td>\n      <td>0</td>\n      <td>0.0</td>\n    </tr>\n    <tr>\n      <th>2079</th>\n      <td>72.90</td>\n      <td>0</td>\n      <td>56.849955</td>\n      <td>60.612492</td>\n      <td>31</td>\n      <td>2025.0</td>\n      <td>16</td>\n      <td>3.0</td>\n      <td>2025.0</td>\n      <td>1</td>\n      <td>0</td>\n      <td>16.700000</td>\n      <td>0</td>\n      <td>0</td>\n      <td>0.0</td>\n    </tr>\n    <tr>\n      <th>4063</th>\n      <td>36.90</td>\n      <td>0</td>\n      <td>55.753914</td>\n      <td>49.204555</td>\n      <td>9</td>\n      <td>1974.0</td>\n      <td>6</td>\n      <td>1.0</td>\n      <td>2023.0</td>\n      <td>0</td>\n      <td>0</td>\n      <td>7.000000</td>\n      <td>1</td>\n      <td>0</td>\n      <td>0.0</td>\n    </tr>\n    <tr>\n      <th>5261</th>\n      <td>50.80</td>\n      <td>0</td>\n      <td>56.232644</td>\n      <td>43.952653</td>\n      <td>5</td>\n      <td>2025.0</td>\n      <td>5</td>\n      <td>2.0</td>\n      <td>2023.0</td>\n      <td>0</td>\n      <td>0</td>\n      <td>6.000000</td>\n      <td>0</td>\n      <td>0</td>\n      <td>0.0</td>\n    </tr>\n    <tr>\n      <th>...</th>\n      <td>...</td>\n      <td>...</td>\n      <td>...</td>\n      <td>...</td>\n      <td>...</td>\n      <td>...</td>\n      <td>...</td>\n      <td>...</td>\n      <td>...</td>\n      <td>...</td>\n      <td>...</td>\n      <td>...</td>\n      <td>...</td>\n      <td>...</td>\n      <td>...</td>\n    </tr>\n    <tr>\n      <th>110</th>\n      <td>86.80</td>\n      <td>1</td>\n      <td>55.734334</td>\n      <td>37.525324</td>\n      <td>34</td>\n      <td>2025.0</td>\n      <td>10</td>\n      <td>3.0</td>\n      <td>2023.0</td>\n      <td>0</td>\n      <td>0</td>\n      <td>13.311845</td>\n      <td>0</td>\n      <td>1</td>\n      <td>1.0</td>\n    </tr>\n    <tr>\n      <th>5938</th>\n      <td>94.80</td>\n      <td>0</td>\n      <td>56.310719</td>\n      <td>44.003461</td>\n      <td>9</td>\n      <td>2025.0</td>\n      <td>2</td>\n      <td>3.0</td>\n      <td>2026.0</td>\n      <td>1</td>\n      <td>0</td>\n      <td>30.700000</td>\n      <td>0</td>\n      <td>0</td>\n      <td>0.0</td>\n    </tr>\n    <tr>\n      <th>3945</th>\n      <td>46.95</td>\n      <td>0</td>\n      <td>55.068875</td>\n      <td>82.915132</td>\n      <td>20</td>\n      <td>2025.0</td>\n      <td>3</td>\n      <td>2.0</td>\n      <td>2026.0</td>\n      <td>1</td>\n      <td>0</td>\n      <td>7.300000</td>\n      <td>0</td>\n      <td>0</td>\n      <td>0.0</td>\n    </tr>\n    <tr>\n      <th>2441</th>\n      <td>26.60</td>\n      <td>0</td>\n      <td>56.776187</td>\n      <td>60.665259</td>\n      <td>16</td>\n      <td>2025.0</td>\n      <td>9</td>\n      <td>1.0</td>\n      <td>2023.0</td>\n      <td>1</td>\n      <td>0</td>\n      <td>13.311845</td>\n      <td>0</td>\n      <td>0</td>\n      <td>0.0</td>\n    </tr>\n    <tr>\n      <th>5271</th>\n      <td>52.60</td>\n      <td>0</td>\n      <td>56.290245</td>\n      <td>43.946841</td>\n      <td>9</td>\n      <td>1981.0</td>\n      <td>8</td>\n      <td>2.0</td>\n      <td>2023.0</td>\n      <td>0</td>\n      <td>0</td>\n      <td>9.000000</td>\n      <td>0</td>\n      <td>0</td>\n      <td>0.0</td>\n    </tr>\n  </tbody>\n</table>\n<p>1136 rows × 15 columns</p>\n</div>"
     },
     "execution_count": 50,
     "metadata": {},
     "output_type": "execute_result"
    }
   ],
   "source": [
    "X_val"
   ],
   "metadata": {
    "collapsed": false,
    "pycharm": {
     "name": "#%%\n"
    }
   }
  },
  {
   "cell_type": "code",
   "execution_count": 44,
   "metadata": {
    "pycharm": {
     "name": "#%%\n"
    }
   },
   "outputs": [
    {
     "data": {
      "text/plain": "array([47430496. , 12328422. , 13426976. , ...,  7847946.5,  3996406. ,\n        6305892. ], dtype=float32)"
     },
     "execution_count": 44,
     "metadata": {},
     "output_type": "execute_result"
    }
   ],
   "source": [
    "predictions"
   ]
  },
  {
   "cell_type": "code",
   "execution_count": 45,
   "metadata": {
    "pycharm": {
     "name": "#%%\n"
    }
   },
   "outputs": [
    {
     "name": "stdout",
     "output_type": "stream",
     "text": [
      "MAE: 2686892.3056778167\n",
      "R^2: 0.8814571966393812\n",
      "MAPE: 0.15530908450675326\n",
      "RMSE: 6321837.372706397\n"
     ]
    }
   ],
   "source": [
    "from sklearn.metrics import r2_score, mean_absolute_percentage_error, mean_squared_error, mean_absolute_error\n",
    "print('MAE:', mean_absolute_error(y_val, predictions))\n",
    "print('R^2:', r2_score(y_val, predictions))\n",
    "print('MAPE:', mean_absolute_percentage_error(y_val, predictions))\n",
    "print('RMSE:', (mean_squared_error(y_val, predictions)) ** (1/2))"
   ]
  }
 ],
 "metadata": {
  "kernelspec": {
   "display_name": "Python 3",
   "language": "python",
   "name": "python3"
  },
  "language_info": {
   "codemirror_mode": {
    "name": "ipython",
    "version": 3
   },
   "file_extension": ".py",
   "mimetype": "text/x-python",
   "name": "python",
   "nbconvert_exporter": "python",
   "pygments_lexer": "ipython3",
   "version": "3.11.2"
  }
 },
 "nbformat": 4,
 "nbformat_minor": 2
}